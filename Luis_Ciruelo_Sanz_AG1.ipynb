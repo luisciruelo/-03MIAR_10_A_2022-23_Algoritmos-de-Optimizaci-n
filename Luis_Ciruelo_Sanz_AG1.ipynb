{
  "cells": [
    {
      "cell_type": "markdown",
      "metadata": {
        "id": "view-in-github",
        "colab_type": "text"
      },
      "source": [
        "<a href=\"https://colab.research.google.com/github/luisciruelo/03MIAR_10_A_2022-23_Algoritmos-de-Optimizacion/blob/main/Luis_Ciruelo_Sanz_AG1.ipynb\" target=\"_parent\"><img src=\"https://colab.research.google.com/assets/colab-badge.svg\" alt=\"Open In Colab\"/></a>"
      ]
    },
    {
      "cell_type": "markdown",
      "metadata": {
        "id": "tDO5mpHraDsn"
      },
      "source": [
        "Nombre: Luis Ciruelo Sanz <br>\n",
        "https://colab.research.google.com/drive/1yZ07HjlEBEeCmCqOWEM38_b9GgnCb1BK?usp=sharing\n",
        "\n",
        "https://github.com/luisciruelo/03MIAR_10_A_2022-23_Algoritmos-de-Optimizacion\n"
      ]
    },
    {
      "cell_type": "code",
      "execution_count": null,
      "metadata": {
        "colab": {
          "base_uri": "https://localhost:8080/"
        },
        "id": "un_rywxNaDso",
        "outputId": "10e83d18-9c1f-4925-ae8e-b05bfdcab890"
      },
      "outputs": [
        {
          "output_type": "stream",
          "name": "stdout",
          "text": [
            "Llevar desde 1 hasta 2\n",
            "Llevar desde 1 hasta 3\n",
            "Llevar desde 2 hasta 3\n",
            "Llevar desde 1 hasta 2\n",
            "Llevar desde 3 hasta 1\n",
            "Llevar desde 3 hasta 2\n",
            "Llevar desde 1 hasta 2\n",
            "Llevar desde 1 hasta 3\n",
            "Llevar desde 2 hasta 3\n",
            "Llevar desde 2 hasta 1\n",
            "Llevar desde 3 hasta 1\n",
            "Llevar desde 2 hasta 3\n",
            "Llevar desde 1 hasta 2\n",
            "Llevar desde 1 hasta 3\n",
            "Llevar desde 2 hasta 3\n"
          ]
        }
      ],
      "source": [
        "#Torres de Hanoi - Divide y venceras\n",
        "################################################################################\n",
        "def torres_hanoi(n, d, h):\n",
        "    \"\"\"torres_hanoi\n",
        "        Algoritmo de las torres de Hanoi\n",
        "\n",
        "    Arg:\n",
        "        n (int): número de niveles de la torre de Hanoi\n",
        "        d (int): número de la torre inicio\n",
        "        h (int): número de la torre final\n",
        "    Returns:\n",
        "        None\n",
        "    \"\"\"\n",
        "    if n == 1:\n",
        "        print(f\"Llevar desde {d} hasta {h}\")\n",
        "    else:\n",
        "        torres_hanoi(n-1, d, 6-d-h)\n",
        "        print(f\"Llevar desde {d} hasta {h}\")\n",
        "        torres_hanoi(n-1, 6-d-h, h)\n",
        "\n",
        "torres_hanoi(4,1,3)"
      ]
    },
    {
      "cell_type": "code",
      "execution_count": null,
      "metadata": {
        "colab": {
          "base_uri": "https://localhost:8080/"
        },
        "id": "-3VATQZMaDsp",
        "outputId": "7f9564a8-a369-4729-be5b-992143dd064f"
      },
      "outputs": [
        {
          "output_type": "execute_result",
          "data": {
            "text/plain": [
              "[1, 0, 1, 1]"
            ]
          },
          "metadata": {},
          "execution_count": 4
        }
      ],
      "source": [
        "#Cambio de monedas - Técnica voraz\n",
        "################################################################################\n",
        "SISTEMA = [12, 5 ,2, 1  ]\n",
        "################################################################\n",
        "def cambio_monedas(CANTIDAD,SISTEMA):\n",
        "#....\n",
        "  SOLUCION = [0]*len(SISTEMA)\n",
        "  ValorAcumulado = 0\n",
        "\n",
        "  for i,valor in enumerate(SISTEMA):\n",
        "    monedas = (CANTIDAD-ValorAcumulado)//valor\n",
        "    SOLUCION[i] = monedas\n",
        "    ValorAcumulado = ValorAcumulado + monedas*valor\n",
        "\n",
        "    if CANTIDAD == ValorAcumulado:\n",
        "      return SOLUCION\n",
        "\n",
        "  print(\"No es posible encontrar solucion\") \n",
        "cambio_monedas(15,SISTEMA)\n",
        "\n",
        "    \n",
        "################################################################"
      ]
    },
    {
      "cell_type": "code",
      "execution_count": null,
      "metadata": {
        "colab": {
          "base_uri": "https://localhost:8080/"
        },
        "id": "G-A1ZIhWaDsq",
        "outputId": "95efa7cd-bf68-4b77-ec53-cb04ed20eb0e"
      },
      "outputs": [
        {
          "output_type": "stream",
          "name": "stdout",
          "text": [
            "[1, 5, 8, 6, 3, 7, 2, 4]\n",
            "[1, 6, 8, 3, 7, 4, 2, 5]\n",
            "[1, 7, 4, 6, 8, 2, 5, 3]\n",
            "[1, 7, 5, 8, 2, 4, 6, 3]\n",
            "[2, 4, 6, 8, 3, 1, 7, 5]\n",
            "[2, 5, 7, 1, 3, 8, 6, 4]\n",
            "[2, 5, 7, 4, 1, 8, 6, 3]\n",
            "[2, 6, 1, 7, 4, 8, 3, 5]\n",
            "[2, 6, 8, 3, 1, 4, 7, 5]\n",
            "[2, 7, 3, 6, 8, 5, 1, 4]\n",
            "[2, 7, 5, 8, 1, 4, 6, 3]\n",
            "[2, 8, 6, 1, 3, 5, 7, 4]\n",
            "[3, 1, 7, 5, 8, 2, 4, 6]\n",
            "[3, 5, 2, 8, 1, 7, 4, 6]\n",
            "[3, 5, 2, 8, 6, 4, 7, 1]\n",
            "[3, 5, 7, 1, 4, 2, 8, 6]\n",
            "[3, 5, 8, 4, 1, 7, 2, 6]\n",
            "[3, 6, 2, 5, 8, 1, 7, 4]\n",
            "[3, 6, 2, 7, 1, 4, 8, 5]\n",
            "[3, 6, 2, 7, 5, 1, 8, 4]\n",
            "[3, 6, 4, 1, 8, 5, 7, 2]\n",
            "[3, 6, 4, 2, 8, 5, 7, 1]\n",
            "[3, 6, 8, 1, 4, 7, 5, 2]\n",
            "[3, 6, 8, 1, 5, 7, 2, 4]\n",
            "[3, 6, 8, 2, 4, 1, 7, 5]\n",
            "[3, 7, 2, 8, 5, 1, 4, 6]\n",
            "[3, 7, 2, 8, 6, 4, 1, 5]\n",
            "[3, 8, 4, 7, 1, 6, 2, 5]\n",
            "[4, 1, 5, 8, 2, 7, 3, 6]\n",
            "[4, 1, 5, 8, 6, 3, 7, 2]\n",
            "[4, 2, 5, 8, 6, 1, 3, 7]\n",
            "[4, 2, 7, 3, 6, 8, 1, 5]\n",
            "[4, 2, 7, 3, 6, 8, 5, 1]\n",
            "[4, 2, 7, 5, 1, 8, 6, 3]\n",
            "[4, 2, 8, 5, 7, 1, 3, 6]\n",
            "[4, 2, 8, 6, 1, 3, 5, 7]\n",
            "[4, 6, 1, 5, 2, 8, 3, 7]\n",
            "[4, 6, 8, 2, 7, 1, 3, 5]\n",
            "[4, 6, 8, 3, 1, 7, 5, 2]\n",
            "[4, 7, 1, 8, 5, 2, 6, 3]\n",
            "[4, 7, 3, 8, 2, 5, 1, 6]\n",
            "[4, 7, 5, 2, 6, 1, 3, 8]\n",
            "[4, 7, 5, 3, 1, 6, 8, 2]\n",
            "[4, 8, 1, 3, 6, 2, 7, 5]\n",
            "[4, 8, 1, 5, 7, 2, 6, 3]\n",
            "[4, 8, 5, 3, 1, 7, 2, 6]\n",
            "[5, 1, 4, 6, 8, 2, 7, 3]\n",
            "[5, 1, 8, 4, 2, 7, 3, 6]\n",
            "[5, 1, 8, 6, 3, 7, 2, 4]\n",
            "[5, 2, 4, 6, 8, 3, 1, 7]\n",
            "[5, 2, 4, 7, 3, 8, 6, 1]\n",
            "[5, 2, 6, 1, 7, 4, 8, 3]\n",
            "[5, 2, 8, 1, 4, 7, 3, 6]\n",
            "[5, 3, 1, 6, 8, 2, 4, 7]\n",
            "[5, 3, 1, 7, 2, 8, 6, 4]\n",
            "[5, 3, 8, 4, 7, 1, 6, 2]\n",
            "[5, 7, 1, 3, 8, 6, 4, 2]\n",
            "[5, 7, 1, 4, 2, 8, 6, 3]\n",
            "[5, 7, 2, 4, 8, 1, 3, 6]\n",
            "[5, 7, 2, 6, 3, 1, 4, 8]\n",
            "[5, 7, 2, 6, 3, 1, 8, 4]\n",
            "[5, 7, 4, 1, 3, 8, 6, 2]\n",
            "[5, 8, 4, 1, 3, 6, 2, 7]\n",
            "[5, 8, 4, 1, 7, 2, 6, 3]\n",
            "[6, 1, 5, 2, 8, 3, 7, 4]\n",
            "[6, 2, 7, 1, 3, 5, 8, 4]\n",
            "[6, 2, 7, 1, 4, 8, 5, 3]\n",
            "[6, 3, 1, 7, 5, 8, 2, 4]\n",
            "[6, 3, 1, 8, 4, 2, 7, 5]\n",
            "[6, 3, 1, 8, 5, 2, 4, 7]\n",
            "[6, 3, 5, 7, 1, 4, 2, 8]\n",
            "[6, 3, 5, 8, 1, 4, 2, 7]\n",
            "[6, 3, 7, 2, 4, 8, 1, 5]\n",
            "[6, 3, 7, 2, 8, 5, 1, 4]\n",
            "[6, 3, 7, 4, 1, 8, 2, 5]\n",
            "[6, 4, 1, 5, 8, 2, 7, 3]\n",
            "[6, 4, 2, 8, 5, 7, 1, 3]\n",
            "[6, 4, 7, 1, 3, 5, 2, 8]\n",
            "[6, 4, 7, 1, 8, 2, 5, 3]\n",
            "[6, 8, 2, 4, 1, 7, 5, 3]\n",
            "[7, 1, 3, 8, 6, 4, 2, 5]\n",
            "[7, 2, 4, 1, 8, 5, 3, 6]\n",
            "[7, 2, 6, 3, 1, 4, 8, 5]\n",
            "[7, 3, 1, 6, 8, 5, 2, 4]\n",
            "[7, 3, 8, 2, 5, 1, 6, 4]\n",
            "[7, 4, 2, 5, 8, 1, 3, 6]\n",
            "[7, 4, 2, 8, 6, 1, 3, 5]\n",
            "[7, 5, 3, 1, 6, 8, 2, 4]\n",
            "[8, 2, 4, 1, 7, 5, 3, 6]\n",
            "[8, 2, 5, 3, 1, 7, 4, 6]\n",
            "[8, 3, 1, 6, 2, 5, 7, 4]\n",
            "[8, 4, 1, 3, 6, 2, 7, 5]\n"
          ]
        }
      ],
      "source": [
        "#N Reinas - Vuelta Atrás()\n",
        "################################################################################\n",
        "\n",
        "#Verifica que en la solución parcial no hay amenzas entre reinas\n",
        "################################################################\n",
        "def es_prometedora(SOLUCION,etapa):\n",
        "################################################################\n",
        "  #print(SOLUCION)\n",
        "  #Si la solución tiene dos valores iguales no es valida => Dos reinas en la misma fila\n",
        "  for i in range(etapa+1):\n",
        "    #print(\"El valor \" + str(SOLUCION[i]) + \" está \" +  str(SOLUCION.count(SOLUCION[i])) + \" veces\")\n",
        "    if SOLUCION.count(SOLUCION[i]) > 1:       \n",
        "      return False\n",
        "  \n",
        "    #Verifica las diagonales\n",
        "    for j in range(i+1, etapa +1 ):\n",
        "      #print(\"Comprobando diagonal de \" + str(i) + \" y \" + str(j))\n",
        "      if abs(i-j) == abs(SOLUCION[i]-SOLUCION[j]) : return False\n",
        "  return True\n",
        "\n",
        "#Traduce la solución al tablero\n",
        "################################################################\n",
        "def escribe_solucion(S):\n",
        "################################################################\n",
        "  n = len(S)\n",
        "  for x in range(n):\n",
        "    print(\"\")\n",
        "    for i in range(n):\n",
        "      if S[i] == x+1:\n",
        "        print(\" X \" , end=\"\")\n",
        "      else:\n",
        "        print(\" - \", end=\"\")\n",
        "\n",
        "\n",
        "\n",
        "#Proceso principal de N-Reinas\n",
        "################################################################\n",
        "def reinas(N, solucion=[],etapa=0): \n",
        "################################################################\n",
        "### ....\n",
        "  if len(solucion) == 0:         # [0,0,0...]\n",
        "    solucion = [0 for i in range(N) ]\n",
        "  \n",
        "  for i in range(1, N+1):\n",
        "    solucion[etapa] = i\n",
        "    if es_prometedora(solucion, etapa):\n",
        "      if etapa == N-1:\n",
        "        print(solucion)\n",
        "      else:  \n",
        "        reinas(N, solucion, etapa+1)\n",
        "    else:\n",
        "      None\n",
        "  \n",
        "  solucion[etapa] = 0\n",
        "\n",
        "reinas(8,solucion=[],etapa=0)"
      ]
    },
    {
      "cell_type": "code",
      "execution_count": null,
      "metadata": {
        "colab": {
          "base_uri": "https://localhost:8080/"
        },
        "id": "9vDKykxWaDsr",
        "outputId": "03eac7c7-fc25-478b-aea5-a47ad0159678"
      },
      "outputs": [
        {
          "output_type": "stream",
          "name": "stdout",
          "text": [
            "\n",
            " X  -  -  -  -  -  -  - \n",
            " -  -  -  -  -  -  X  - \n",
            " -  -  -  -  X  -  -  - \n",
            " -  -  -  -  -  -  -  X \n",
            " -  X  -  -  -  -  -  - \n",
            " -  -  -  X  -  -  -  - \n",
            " -  -  -  -  -  X  -  - \n",
            " -  -  X  -  -  -  -  - "
          ]
        }
      ],
      "source": [
        "escribe_solucion([1, 5, 8, 6, 3, 7, 2, 4])"
      ]
    },
    {
      "cell_type": "code",
      "execution_count": null,
      "metadata": {
        "colab": {
          "base_uri": "https://localhost:8080/",
          "height": 374
        },
        "id": "x5mFf6lMaDsr",
        "outputId": "f1f314f0-1dff-4486-d1bf-1710df442106"
      },
      "outputs": [
        {
          "output_type": "stream",
          "name": "stdout",
          "text": [
            "PRECIOS\n",
            "[0, 5, 4, 3, 8, 8, 11]\n",
            "[9999, 0, 999, 2, 3, 8, 7]\n",
            "[9999, 9999, 0, 1, 6, 4, 7]\n",
            "[9999, 9999, 9999, 0, 5, 6, 9]\n",
            "[9999, 9999, 9999, 9999, 0, 999, 4]\n",
            "[9999, 9999, 9999, 9999, 9999, 0, 3]\n",
            "[9999, 9999, 9999, 9999, 9999, 9999, 9999]\n",
            "\n",
            "RUTA\n",
            "[0, 0, 0, 0, 1, 2, 5]\n",
            "['', 1, 1, 1, 1, 3, 4]\n",
            "['', '', 2, 2, 3, 2, 5]\n",
            "['', '', '', 3, 3, 3, 3]\n",
            "['', '', '', '', 4, 4, 4]\n",
            "['', '', '', '', '', 5, 5]\n",
            "['', '', '', '', '', '', '']\n",
            "\n",
            "La ruta es:\n"
          ]
        },
        {
          "output_type": "execute_result",
          "data": {
            "text/plain": [
              "',0,2,5'"
            ],
            "application/vnd.google.colaboratory.intrinsic+json": {
              "type": "string"
            }
          },
          "metadata": {},
          "execution_count": 7
        }
      ],
      "source": [
        "#Viaje por el rio - Programación dinámica\n",
        "################################################################################\n",
        "\n",
        "TARIFAS = [\n",
        "[0,5,4,3,999,999,999],\n",
        "[999,0,999,2,3,999,11],\n",
        "[999,999, 0,1,999,4,10],\n",
        "[999,999,999, 0,5,6,9],\n",
        "[999,999, 999,999,0,999,4],\n",
        "[999,999, 999,999,999,0,3],\n",
        "[999,999,999,999,999,999,0]\n",
        "]\n",
        "\n",
        "#999 se puede sustituir por float(\"inf\")\n",
        "\n",
        "\n",
        "#Calculo de la matriz de PRECIOS y RUTAS\n",
        "################################################################  \n",
        "def Precios(TARIFAS):\n",
        "################################################################  \n",
        "  #Total de Nodos\n",
        "  N = len(TARIFAS[0])\n",
        "  \n",
        "  #Inicialización de la tabla de precios\n",
        "  PRECIOS = [ [9999]*N for i in [9999]*N]\n",
        "  RUTA = [ [\"\"]*N for i in [\"\"]*N]\n",
        "  \n",
        "  for i in range(0,N-1):\n",
        "    RUTA[i][i] = i             #Para ir de i a i se \"pasa por i\"\n",
        "    PRECIOS[i][i] = 0          #Para ir de i a i se se paga 0\n",
        "    for j in range(i+1, N):\n",
        "      MIN = TARIFAS[i][j]\n",
        "      RUTA[i][j] = i         \n",
        "      \n",
        "      for k in range(i, j):\n",
        "        if PRECIOS[i][k] + TARIFAS[k][j] < MIN:\n",
        "            MIN = min(MIN, PRECIOS[i][k] + TARIFAS[k][j] )\n",
        "            RUTA[i][j] = k          #Anota que para ir de i a j hay que pasar por k\n",
        "        PRECIOS[i][j] = MIN\n",
        "        \n",
        "  return PRECIOS,RUTA\n",
        "################################################################  \n",
        "\n",
        "PRECIOS,RUTA = Precios(TARIFAS)  \n",
        "#print(PRECIOS[0][6])\n",
        "\n",
        "print(\"PRECIOS\")\n",
        "for i in range(len(TARIFAS)):\n",
        "  print(PRECIOS[i])\n",
        "\n",
        "print(\"\\nRUTA\")  \n",
        "for i in range(len(TARIFAS)):\n",
        "  print(RUTA[i])  \n",
        "  \n",
        "#Determinar la ruta con Recursividad\n",
        "def calcular_ruta(RUTA, desde, hasta):\n",
        "  if desde == hasta:\n",
        "    #print(\"Ir a :\" + str(desde))\n",
        "    return \"\" \n",
        "  else:\n",
        "    return str(calcular_ruta( RUTA, desde, RUTA[desde][hasta])) +  \\\n",
        "                ',' + \\\n",
        "                str(RUTA[desde][hasta] \\\n",
        "              ) \n",
        "\n",
        "print(\"\\nLa ruta es:\")  \n",
        "calcular_ruta(RUTA, 0,6)  "
      ]
    },
    {
      "cell_type": "code",
      "execution_count": null,
      "metadata": {
        "id": "RzpRqxPOaDss"
      },
      "outputs": [],
      "source": [
        "import random\n",
        "LISTA_1D =[random.randrange(1,10000) for x in range(1000)]\n",
        "LISTA_2D =[(random.randrange(1,10000), random.randrange(1,10000)) for x in range(1000)]"
      ]
    },
    {
      "cell_type": "markdown",
      "metadata": {
        "id": "10zdr85baDss"
      },
      "source": [
        "### Metodo por fuerza bruta"
      ]
    },
    {
      "cell_type": "code",
      "execution_count": null,
      "metadata": {
        "id": "2l-yYL88aDst"
      },
      "outputs": [],
      "source": [
        "def closest_pair_fuerza_bruta (array):\n",
        "    minDist = float(\"inf\")\n",
        "    for i in range(len(array)-1):\n",
        "        for j in range(i+1, len(array)):\n",
        "            \n",
        "            dist = abs(array[i]-array[j])\n",
        "            if dist < minDist:\n",
        "                minDist = dist\n",
        "                closestPair = (i, j)\n",
        "    return closestPair, minDist"
      ]
    },
    {
      "cell_type": "code",
      "execution_count": null,
      "metadata": {
        "colab": {
          "base_uri": "https://localhost:8080/"
        },
        "id": "Rm5Hz3OmaDst",
        "outputId": "d706a9af-2b47-4f94-f011-edae4eb8dcf4"
      },
      "outputs": [
        {
          "output_type": "stream",
          "name": "stdout",
          "text": [
            "La distancia mínima del punto 25 con valor 2743, al punto 609 con valor 2743 es de 0\n"
          ]
        }
      ],
      "source": [
        "closestPair, minDist = closest_pair_fuerza_bruta(LISTA_1D)\n",
        "print(f\"La distancia mínima del punto {closestPair[0]} con valor {LISTA_1D[closestPair[0]]}, al punto {closestPair[1]} con valor {LISTA_1D[closestPair[1]]} es de {minDist}\")\n"
      ]
    },
    {
      "cell_type": "markdown",
      "metadata": {
        "id": "KkffSr0YaDsu"
      },
      "source": [
        "La complejidad es de $O{(\\frac{n(n-1)}{2})} = O{(n^2)}$\n",
        "\n",
        "\n",
        "¿Se puede mejorar? La respuesta es Si, por el metodo de divide y venceras se puede mejorar, llegando en el mejor de los casos a una complejidad computacional de $O{(n\\log{(n)})}$"
      ]
    },
    {
      "cell_type": "markdown",
      "metadata": {
        "id": "cnbmqKZGaDsu"
      },
      "source": [
        "### Método divide venceras mediante para 1D"
      ]
    },
    {
      "cell_type": "code",
      "execution_count": null,
      "metadata": {
        "id": "I1Aat9adaDsv"
      },
      "outputs": [],
      "source": [
        "def min_distance_Divide_Venceras_1D(lista):\n",
        "    px = lista\n",
        "    # Si el tamaño de la lista de puntos es 2, devolvemos los puntos y la distancia entre ellos. Si la lista tiene 0 o 1 elementos, devolvemos infinito.\n",
        "    if len(px) == 2:\n",
        "        return abs(px[0] - px[1]), px[0], px[1]\n",
        "    if len(px) < 2:\n",
        "        return 100001, None, None\n",
        "\n",
        "    # Dividimos la lista de puntos en dos partes iguales.\n",
        "    lpx = px[:int(len(px)/2)]\n",
        "    rpx = px[int(len(px)/2):]\n",
        "\n",
        "    # De forma recursiva en las partes izquierdas y derecha obtenemos la distancia y los puntos.\n",
        "    dLmin, pl1, pl2 = min_distance_Divide_Venceras_1D(lpx)\n",
        "    dRmin, pr1, pr2 = min_distance_Divide_Venceras_1D(rpx)\n",
        "\n",
        "    # Escogemos el mínimo entre estas dos soluciones.\n",
        "    dLRmin = min(dLmin, dRmin)\n",
        "\n",
        "    # Calculamos la distancia entre los puntos extremos de la lista izq y derecha\n",
        "    dCmin = abs(lpx[-1] - rpx[0])\n",
        "    \n",
        "    # Nos quedamos con la distancia mínima entre los pares calculados anteriormente\n",
        "    minimo = min(dLRmin, dCmin)\n",
        "    p1 = None\n",
        "    p2 = None\n",
        "    if dLmin == minimo:\n",
        "        p1 = pl1\n",
        "        p2 = pl2\n",
        "    elif dRmin == minimo:\n",
        "        p1 = pr1\n",
        "        p2 = pr2\n",
        "    else:\n",
        "        p1 = lpx[-1]\n",
        "        p2 = rpx[0]\n",
        "    # Devolvemos la distancia mínima y los correspondientes.\n",
        "    return minimo, p1, p2"
      ]
    },
    {
      "cell_type": "code",
      "execution_count": null,
      "metadata": {
        "colab": {
          "base_uri": "https://localhost:8080/"
        },
        "id": "wC4HFYsXaDsv",
        "outputId": "f73768af-4a9f-4ebe-9378-f3e88d6ee112"
      },
      "outputs": [
        {
          "output_type": "stream",
          "name": "stdout",
          "text": [
            "La distancia mínima del punto 311, al punto 311 es de 0\n"
          ]
        }
      ],
      "source": [
        "size = len(LISTA_1D)\n",
        "\n",
        "minDist, p1, p2 = min_distance_Divide_Venceras_1D(sorted(LISTA_1D))\n",
        "\n",
        "print(f\"La distancia mínima del punto {p1}, al punto {p2} es de {minDist}\")\n",
        "\n",
        "\n"
      ]
    },
    {
      "cell_type": "markdown",
      "source": [
        "La complegidad de este logarirmo es de $O(nlog(n))$"
      ],
      "metadata": {
        "id": "s4YcbYmQs4qh"
      }
    },
    {
      "cell_type": "markdown",
      "metadata": {
        "id": "MUXkVPCHaDsv"
      },
      "source": [
        "### Método divide venceras mediante para 2D\n",
        "\n",
        "- Ordenar los puntos según su coordenada X.\n",
        "- Si el tamaño del conjunto es 2, devolver la distancia entre ellos. Si el conjunto tiene 0 o 1 elementos, devolver infinito.\n",
        "- Dividir el conjunto de puntos en dos partes iguales (del mismo número de puntos).\n",
        "- Solucionar el problema de forma recursiva en las partes izquierdas y derecha. Esto devolverá una solución para cada parte, llamadas dLmin y dRmin. Escoger el mínimo entre estas dos soluciones, llamado dLRmin.\n",
        "- Seleccionar los puntos de la parte derecha e izquierda que están a una distancia horizontal menor que dLRmin de la recta divisoria entre ambos. - Aprovechar que los puntos están ordenados para elegir los últimos puntos de la parte izquierda y los primeros de la parte derecha.\n",
        "- Encontrar la distancia mínima dCmin entre todos los pares de puntos formados por un punto de cada parte del paso anterior.\n",
        "- La respuesta final es el mínimo entre dCmin y dLRmin."
      ]
    },
    {
      "cell_type": "markdown",
      "metadata": {
        "id": "KIwx3gVmaDsw"
      },
      "source": [
        "La distancia Euclidea entre dos puntos $p1(x1,y1)$ and $p2(x2,y2)$, viene dada por:\n",
        "$$distance=\\sqrt{(y2−y1)^2+(x2−x1)^2}$$"
      ]
    },
    {
      "cell_type": "code",
      "execution_count": null,
      "metadata": {
        "id": "MSi1ZmpuaDsw"
      },
      "outputs": [],
      "source": [
        "from numpy import sqrt\n",
        "\n",
        "def distance(point_1, point_2):\n",
        "    return sqrt(sum(((point_1[0] - point_2[0])**2, (point_1[1] - point_2[1])**2)))"
      ]
    },
    {
      "cell_type": "code",
      "execution_count": null,
      "metadata": {
        "id": "l-1lztA7aDsw"
      },
      "outputs": [],
      "source": [
        "def min_distance_Divide_Venceras_ND(lista, distance_ND):\n",
        "    # Ordenamos los puntos según su coordenada X.\n",
        "    # No ordeno con el algorirmo creado anteriormente por comodidad\n",
        "    px = sorted(lista, key = lambda p: p[0])\n",
        "    # Si el tamaño de la lista de puntos es 2, devolvemos los puntos y la distancia entre ellos. Si la lista tiene 0 o 1 elementos, devolvemos infinito.\n",
        "    if len(px) == 2:\n",
        "        return distance_ND(px[0], px[1]), px[0], px[1]\n",
        "    if len(px) < 2:\n",
        "        return float(\"inf\"), None, None\n",
        "\n",
        "    # Dividimos la lista de puntos en dos partes iguales.\n",
        "    lpx = px[:int(len(px)/2)]\n",
        "    rpx = px[int(len(px)/2):]\n",
        "\n",
        "    # De forma recursiva en las partes izquierdas y derecha obtenemos la distancia y los puntos.\n",
        "    dLmin, pl1, pl2 = min_distance_Divide_Venceras_ND(lpx,distance_ND)\n",
        "    dRmin, pr1, pr2 = min_distance_Divide_Venceras_ND(rpx, distance_ND)\n",
        "\n",
        "    # Escogemos el mínimo entre estas dos soluciones.\n",
        "    dLRmin = min(dLmin, dRmin)\n",
        "\n",
        "    # Calculamos la distancia entre los puntos extremos de la lista izq y derecha\n",
        "    dCmin = distance_ND(lpx[-1], rpx[0])\n",
        "    \n",
        "    # Nos quedamos con la distancia mínima entre los pares calculados anteriormente\n",
        "    minimo = min(dLRmin, dCmin)\n",
        "    p1 = None\n",
        "    p2 = None\n",
        "    if dLmin == minimo:\n",
        "        p1 = pl1\n",
        "        p2 = pl2\n",
        "    elif dRmin == minimo:\n",
        "        p1 = pr1\n",
        "        p2 = pr2\n",
        "    else:\n",
        "        p1 = lpx[-1]\n",
        "        p2 = rpx[0]\n",
        "    # Devolvemos la distancia mínima y los correspondientes.\n",
        "    return minimo, p1, p2"
      ]
    },
    {
      "cell_type": "code",
      "execution_count": null,
      "metadata": {
        "colab": {
          "base_uri": "https://localhost:8080/"
        },
        "id": "uWGByxJ5aDsw",
        "outputId": "4cfd6c9e-65df-4a79-cf8c-4383a5caa070"
      },
      "outputs": [
        {
          "output_type": "stream",
          "name": "stdout",
          "text": [
            "La mínima distantia es 23.706539182259394 para los puntos(3696, 1454) (3717, 1443)\n"
          ]
        }
      ],
      "source": [
        "minimo, p1, p2 = min_distance_Divide_Venceras_ND(LISTA_2D, distance)\n",
        "print(f'La mínima distantia es {minimo} para los puntos{p1} {p2}')"
      ]
    },
    {
      "cell_type": "code",
      "execution_count": null,
      "metadata": {
        "colab": {
          "base_uri": "https://localhost:8080/",
          "height": 283
        },
        "id": "vBDxlI_2aDsw",
        "outputId": "4ff54278-4a58-401b-c26c-ebfb3049288d"
      },
      "outputs": [
        {
          "output_type": "stream",
          "name": "stdout",
          "text": [
            "(3696, 1454) (3717, 1443) 23.706539182259394\n"
          ]
        },
        {
          "output_type": "display_data",
          "data": {
            "text/plain": [
              "<Figure size 432x288 with 1 Axes>"
            ],
            "image/png": "[encoded data removed]"
          },
          "metadata": {
            "needs_background": "light"
          }
        }
      ],
      "source": [
        "import numpy as np\n",
        "import matplotlib.pyplot as plt\n",
        "\n",
        "minimo, p1, p2 = min_distance_Divide_Venceras_ND(LISTA_2D, distance)\n",
        "\n",
        "Ax = [x[0] for x in LISTA_2D]\n",
        "Ay = [x[1] for x in LISTA_2D]\n",
        "Sx = [p1[0],p2[0]]\n",
        "Sy = [p1[1],p2[1]]\n",
        "print(p1, p2, distance(p1,p2))\n",
        "plt.scatter(Ax,Ay)\n",
        "\n",
        "plt.scatter(Sx,Sy, color='red')\n",
        "\n",
        "plt.show()"
      ]
    },
    {
      "cell_type": "code",
      "execution_count": null,
      "metadata": {
        "id": "ttqdPK9CaDsx"
      },
      "outputs": [],
      "source": [
        "def distance_3d(point_1, point_2):\n",
        "    return sqrt(sum(((point_1[0] - point_2[0])**2, (point_1[1] - point_2[1])**2, (point_1[2] - point_2[2])**2)))"
      ]
    },
    {
      "cell_type": "markdown",
      "metadata": {
        "id": "4LLGYuZDaDsx"
      },
      "source": [
        "### Método divide venceras mediante para 3D\n",
        "\n",
        "- Ordenar los puntos según su coordenada X.\n",
        "- Si el tamaño del conjunto es 2, devolver la distancia entre ellos. Si el conjunto tiene 0 o 1 elementos, devolver infinito.\n",
        "- Dividir el conjunto de puntos en dos partes iguales (del mismo número de puntos).\n",
        "- Solucionar el problema de forma recursiva en las partes izquierdas y derecha. Esto devolverá una solución para cada parte, llamadas dLmin y dRmin. Escoger el mínimo entre estas dos soluciones, llamado dLRmin.\n",
        "- Seleccionar los puntos de la parte derecha e izquierda que están a una distancia horizontal menor que dLRmin de la recta divisoria entre ambos. - Aprovechar que los puntos están ordenados para elegir los últimos puntos de la parte izquierda y los primeros de la parte derecha.\n",
        "- Encontrar la distancia mínima dCmin entre todos los pares de puntos formados por un punto de cada parte del paso anterior.\n",
        "- La respuesta final es el mínimo entre dCmin y dLRmin."
      ]
    },
    {
      "cell_type": "markdown",
      "metadata": {
        "id": "94-Z5ak6aDsx"
      },
      "source": [
        "La distancia Euclidea entre dos puntos $p1(x1,y1,z1)$ and $p2(x2,y2,z2)$, viene dada por:\n",
        "$$distance=\\sqrt{(y2−y1)^2+(x2−x1)^2+(z2−z1)^2}$$"
      ]
    },
    {
      "cell_type": "code",
      "execution_count": null,
      "metadata": {
        "colab": {
          "base_uri": "https://localhost:8080/"
        },
        "id": "H_w3lav0aDsx",
        "outputId": "36983679-e664-4522-83e6-ce5dfbe3d2ed"
      },
      "outputs": [
        {
          "output_type": "stream",
          "name": "stdout",
          "text": [
            "La mínima distantia es 73.5255057786072 para los puntos(2025, 589, 8641) (2039, 660, 8654)\n"
          ]
        }
      ],
      "source": [
        "LISTA_3D =[(random.randrange(1,10000), random.randrange(1,10000), random.randrange(1,10000)) for x in range(1000)]\n",
        "minimo, p1, p2 = min_distance_Divide_Venceras_ND(LISTA_3D, distance_3d)\n",
        "print(f'La mínima distantia es {minimo} para los puntos{p1} {p2}')"
      ]
    }
  ],
  "metadata": {
    "kernelspec": {
      "display_name": "pythonIA",
      "language": "python",
      "name": "python3"
    },
    "language_info": {
      "codemirror_mode": {
        "name": "ipython",
        "version": 3
      },
      "file_extension": ".py",
      "mimetype": "text/x-python",
      "name": "python",
      "nbconvert_exporter": "python",
      "pygments_lexer": "ipython3",
      "version": "3.9.13"
    },
    "orig_nbformat": 4,
    "vscode": {
      "interpreter": {
        "hash": "6dba33d0abbf643b5ea56c2ef50c7f9244885a20ae46ae5e36c64fdb015efe56"
      }
    },
    "colab": {
      "provenance": [],
      "include_colab_link": true
    }
  },
  "nbformat": 4,
  "nbformat_minor": 0
}