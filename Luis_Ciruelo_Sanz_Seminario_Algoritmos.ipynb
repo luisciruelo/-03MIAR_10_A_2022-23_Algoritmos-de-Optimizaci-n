{
  "nbformat": 4,
  "nbformat_minor": 0,
  "metadata": {
    "colab": {
      "provenance": [],
      "include_colab_link": true
    },
    "kernelspec": {
      "name": "python3",
      "display_name": "Python 3"
    }
  },
  "cells": [
    {
      "cell_type": "markdown",
      "metadata": {
        "id": "view-in-github",
        "colab_type": "text"
      },
      "source": [
        "<a href=\"https://colab.research.google.com/github/luisciruelo/03MIAR_10_A_2022-23_Algoritmos-de-Optimizacion/blob/main/Luis_Ciruelo_Sanz_Seminario_Algoritmos.ipynb\" target=\"_parent\"><img src=\"https://colab.research.google.com/assets/colab-badge.svg\" alt=\"Open In Colab\"/></a>"
      ]
    },
    {
      "cell_type": "markdown",
      "metadata": {
        "id": "hVbXYX-RfPWh"
      },
      "source": [
        "# Algoritmos de optimización - Seminario<br>\n",
        "Nombre y Apellidos:   Luis Ciruelo Sanz<br>\n",
        "Url: https://colab.research.google.com/drive/14pC_1mgH3rT_gLU3WCSTu_ShFXhfkkpc?usp=sharing<br>\n",
        "GitHub: https://github.com/luisciruelo/03MIAR_10_A_2022-23_Algoritmos-de-Optimizacion<br>\n",
        "Problema:\n",
        "> 1. Sesiones de doblaje <br>\n",
        ">2. Organizar los horarios de partidos de La Liga<br>\n",
        ">3. Combinar cifras y operaciones\n",
        "\n",
        "Descripción del problema:(copiar enunciado)\n",
        "\n",
        "## Problema 3. Combinar cifras y operaciones\n",
        "- El problema consiste en analizar el siguiente problema y diseñar un algoritmo que lo resuelva.\n",
        "- Disponemos de las 9 cifras del 1 al 9 (excluimos el cero) y de los 4 signos básicos de las\n",
        "operaciones fundamentales: suma(+), resta(-), multiplicación(*) y división(/)\n",
        "- Debemos combinarlos alternativamente sin repetir ninguno de ellos para obtener una cantidad\n",
        "dada. Un ejemplo sería para obtener el 4:\n",
        "4+2-6/3*1 = 4\n",
        "- Debe analizarse el problema para encontrar todos los valores enteros posibles planteando las\n",
        "siguientes cuestiones:\n",
        "- ¿Qué valor máximo y mínimo se pueden obtener según las condiciones del problema?\n",
        "- ¿Es posible encontrar todos los valores enteros posibles entre dicho mínimo y máximo ?\n",
        "- Nota: Es posible usar la función de python “eval” para evaluar una expresión:\n",
        "\n",
        "\n",
        "(*) La respuesta es obligatoria\n",
        "\n",
        "\n",
        "\n",
        "\n",
        "\n",
        "                                        "
      ]
    },
    {
      "cell_type": "code",
      "metadata": {
        "id": "AiskKkzZfy4e"
      },
      "source": [],
      "execution_count": null,
      "outputs": []
    },
    {
      "cell_type": "markdown",
      "metadata": {
        "id": "3_-exlrTgLd-"
      },
      "source": [
        "(*)¿Cuantas posibilidades hay sin tener en cuenta las restricciones?<br>\n",
        "\n",
        "\n",
        "\n",
        "¿Cuantas posibilidades hay teniendo en cuenta todas las restricciones.\n",
        "\n",
        "\n"
      ]
    },
    {
      "cell_type": "markdown",
      "metadata": {
        "id": "WfCUqJyKhPcw"
      },
      "source": [
        "Respuesta"
      ]
    },
    {
      "cell_type": "code",
      "source": [
        "#Respuesta"
      ],
      "metadata": {
        "id": "BA4RIZfnQBiL"
      },
      "execution_count": null,
      "outputs": []
    },
    {
      "cell_type": "markdown",
      "source": [
        "### (*)¿Cuantas posibilidades hay sin tener en cuenta las restricciones?<br>\n",
        "Sin contar las posibles restricciones, tenemos en una primera estancia una variación con repetición de los números del 1 al 9, en grupos de 5, ya que en este caso si se puede repetir la elección. Es variación ya que el orden de elección si importa.\n",
        "\n",
        "Por tanto, tendríamos: $VR_{n,k}= n^k=9^5=59.049$ operaciones. </br>Y por otro lado, tendríamos otra variación con repetición de los operadores:$VR_{n,k}= n^k=4^4=256$ operaciones.\n",
        "\n",
        "Quedando un total de $59.049x256=15.116.544$ operaciones.\n",
        "\n",
        "\n",
        "### ¿Cuantas posibilidades hay teniendo en cuenta todas las restricciones.\n",
        "Contando las restricciones la cosa cambia, ya que tendríamos una variación sin repetición por lo que sería, una variación en grupos de 5 de los números del 1 al 9: $V_{n,k}= {n!\\over(n-k)!}={9!\\over(9-5)!}=15.120$ operaciones.</br>\n",
        "Y por el lado de las operaciones, una permutación sin repetición: $P_{n}= n!=4!$ operaciones.\n",
        "\n",
        "Quedando un total de $15.120x24=362.880$ operaciones.\n"
      ],
      "metadata": {
        "id": "f07TbGV6_1yc"
      }
    },
    {
      "cell_type": "code",
      "source": [],
      "metadata": {
        "id": "nYB2y8CIJmMp"
      },
      "execution_count": null,
      "outputs": []
    },
    {
      "cell_type": "markdown",
      "metadata": {
        "id": "dzynfVJahHoY"
      },
      "source": [
        "Modelo para el espacio de soluciones<br>\n",
        "(*) ¿Cual es la estructura de datos que mejor se adapta al problema? Argumentalo.(Es posible que hayas elegido una al principio y veas la necesidad de cambiar, arguentalo)\n"
      ]
    },
    {
      "cell_type": "markdown",
      "metadata": {
        "id": "xFIJrOwKi2Ti"
      },
      "source": [
        "Respuesta"
      ]
    },
    {
      "cell_type": "code",
      "source": [
        "#Respuesta"
      ],
      "metadata": {
        "id": "dQlOx5yHQAyT"
      },
      "execution_count": null,
      "outputs": []
    },
    {
      "cell_type": "markdown",
      "source": [
        "### (*) ¿Cual es la estructura de datos que mejor se adapta al problema? Argumentalo.(Es posible que hayas elegido una al principio y veas la necesidad de cambiar, arguentalo)\n",
        "\n",
        "Al ser un problema de búsqueda y no de optimización, pensé en primer momento en un algoritmo del estilo backtrackin que usamos en clase para el problema de las 8 reinas. Pero opté mejor por un algoritmo de búsqueda de tipo árbol, en este caso búsqueda en profundidad. Por la facilidad de implementar y la eficacia de sus búsquedas.\n",
        "\n",
        "Pero añadiendole un componente de poda, para evitar búsquedas innecesarias. En un primer momento opte por una poda poco agresiva, y al final la reduje a poda de resultados menores de 0, siempre y cuando el número de operadores usados sea menor al límite y se hubiesen usado tanto la * como la /, ya que esos operadores alteran el orden de operaciones. Y una poda superior, es decir mayores que el resultado siempre y cuando se hubiese usado la división.\n",
        "\n",
        "Al final tras analizar más el problema añadí aún más poda ya que con números grandes no estaba muy optimizado. Quedando finalmente con 4 condiciones de poda\n",
        "```python \n",
        "    # Poda resultados menores que el resultado objetivo menos la media\n",
        "    # aritmética de los números restantes, cuando se hayan usado tanto\n",
        "    # la resta junto a la multiplicación y el siguiente operando no sea división\n",
        "    if len(expresion) > 3  and len(expresion) < longitud_expresion_maxima and '-' == expresion[-3] and expresion[-1] == \"*\" and  evaluar_expresion(expresion +  str(np.mean(numeros)))  < resultado - np.mean(numeros):\n",
        "      if operadores and operadores[0] != \"/\":\n",
        "        return None\n",
        "\n",
        "    # Si tenemos una suma con una multiplicación y alguno de estos operandos es\n",
        "    # mayor que el resultado, podamos\n",
        "    if len(expresion) > 3  and len(expresion) < longitud_expresion_maxima and '+' == expresion[-3] and expresion[-1] == \"*\":\n",
        "      if int(expresion[-2]) >= resultado or numeros[0] >= resultado:\n",
        "        return None\n",
        "\n",
        "    # si estamos muy avanzados y estamos por debajo de cero + la media de los\n",
        "    # números de entrada podamos, tenemos 3 números y dos operandos\n",
        "    if len(expresion) == (longitud_expresion_maxima-3):\n",
        "      if evaluar_expresion(expresion[:-1]) < 0 - np.mean(numeros):\n",
        "        #print(expresion)\n",
        "        return None\n",
        "\n",
        "    # Poda resultados menores que el resultado objetivo menos la media\n",
        "    # aritmética de los números restantes, cuando se haya usado tanto la\n",
        "    # multiplicación como la división\n",
        "    if len(expresion) < longitud_expresion_maxima and  evaluar_expresion(expresion[:-1]) < resultado - np.mean(numeros):\n",
        "        if '*' in expresion[:-1] and '/' in expresion[:-1]:\n",
        "            return None\n",
        "```"
      ],
      "metadata": {
        "id": "D7U9le3ZJ8Xw"
      }
    },
    {
      "cell_type": "code",
      "metadata": {
        "id": "38c-7-ejhJmA"
      },
      "source": [],
      "execution_count": null,
      "outputs": []
    },
    {
      "cell_type": "markdown",
      "metadata": {
        "id": "7Z9U2W7bi-XS"
      },
      "source": [
        "Según el modelo para el espacio de soluciones<br>\n",
        "(*)¿Cual es la función objetivo?\n",
        "\n",
        "(*)¿Es un problema de maximización o minimización?"
      ]
    },
    {
      "cell_type": "markdown",
      "metadata": {
        "id": "hBalWLM7j1_d"
      },
      "source": [
        "Respuesta"
      ]
    },
    {
      "cell_type": "code",
      "source": [
        "#Respuesta"
      ],
      "metadata": {
        "id": "KZx_p302QAAB"
      },
      "execution_count": null,
      "outputs": []
    },
    {
      "cell_type": "markdown",
      "source": [
        "### (*)¿Cual es la función objetivo?\n",
        "La función objetivo es obtener las distintas expresiones matemáticas que se pueden obtener al realizar las combinaciones de números + operadores, y que tengan como resultado el número pasado por parámetro a la función objetivo.\n",
        "\n",
        "### (*)¿Es un problema de maximización o minimización?\n",
        "Por lo tanto no es problema ni de maximización ni minimización, sino de búsqueda."
      ],
      "metadata": {
        "id": "je_DEJAlP91T"
      }
    },
    {
      "cell_type": "code",
      "metadata": {
        "id": "pDA-rg3Gj5Lz"
      },
      "source": [],
      "execution_count": null,
      "outputs": []
    },
    {
      "cell_type": "markdown",
      "metadata": {
        "id": "rlnTYgY1j6I2"
      },
      "source": [
        "Diseña un algoritmo para resolver el problema por fuerza bruta"
      ]
    },
    {
      "cell_type": "markdown",
      "metadata": {
        "id": "70rDgxYXkC8r"
      },
      "source": [
        "Respuesta"
      ]
    },
    {
      "cell_type": "code",
      "metadata": {
        "id": "CJb5sQ0qkENy",
        "colab": {
          "base_uri": "https://localhost:8080/"
        },
        "outputId": "83e0ecd3-c33b-47d4-dd72-3a8951944568"
      },
      "source": [
        "# #Respuesta: Algoritmo por fuerza bruta\n",
        "from itertools import permutations\n",
        "\n",
        "def encuentra_expresion(numbers, operadores, resultado):\n",
        "  \n",
        "    # Obtenemos todas las combinaciones posibles de los grupos de 5 números, \n",
        "    # y operadores\n",
        "    # Usando la libreria itertools, con la función permutations\n",
        "    permutacion_numeros = list(permutations(numbers, len(operadores)+1))\n",
        "    permutacion_operadores = list(permutations(operadores))\n",
        "    soluciones = []\n",
        "    iteraciones = 0\n",
        "    # generamos todas las permuzaciones posibles a media que las vamos evaluando\n",
        "    for nc in permutacion_numeros:\n",
        "        for oc in permutacion_operadores:\n",
        "          iteraciones += 1\n",
        "          expresion = \"\"\n",
        "          nc_list=list(nc)\n",
        "          oc_list=list(oc)\n",
        "          # Con este bucle creamos la expresión combinando, de forma intercalada\n",
        "          # la permutación de números, con la de operadores.\n",
        "          for n in range(len(operadores)):\n",
        "              expresion += str(nc_list[n]) + str(oc_list[n])\n",
        "          expresion += str(nc_list[-1])\n",
        "          if eval(expresion) == resultado:\n",
        "              # Si el resultado de la evaluación es correcto lo agregamos a la\n",
        "              # lista de soluciones.\n",
        "              soluciones.append(expresion)\n",
        "              #return expresion\n",
        "\n",
        "    return soluciones, iteraciones\n",
        "numeros = [1, 2, 3, 4, 5, 6, 7, 8, 9]\n",
        "operadores = ['+', '-', '*', '/']\n",
        "soluciones, iteraciones = encuentra_expresion(numeros, operadores, 40)\n",
        "print(f\"{len(soluciones)} resultado obtenidos en {iteraciones} iteraciones\" )\n",
        "print(\"Soluciones: \")\n",
        "print(soluciones)"
      ],
      "execution_count": 7,
      "outputs": [
        {
          "output_type": "stream",
          "name": "stdout",
          "text": [
            "400 resultado obtenidos en 362880 iteraciones\n",
            "Soluciones: \n",
            "['1+6*7-9/3', '1+7*6-9/3', '1-9/3+6*7', '1-9/3+7*6', '2/1-4+6*7', '2/1-4+7*6', '2/1+5*9-7', '2/1+6*7-4', '2/1-7+5*9', '2/1+7*6-4', '2/1-7+9*5', '2/1+9*5-7', '2-4/1+6*7', '2-4/1+7*6', '2-4+6/1*7', '2-4+6*7/1', '2-4+7/1*6', '2-4+7*6/1', '2+5/1*9-7', '2+5*8-6/3', '2+5*9/1-7', '2+5*9-7/1', '2+6/1*7-4', '2-6/3+5*8', '2-6/3+8*5', '2+6*7/1-4', '2+6*7-4/1', '2-7/1+5*9', '2+7/1*6-4', '2-7/1+9*5', '2-7+5/1*9', '2-7+5*9/1', '2+7*6/1-4', '2+7*6-4/1', '2-7+9/1*5', '2-7+9*5/1', '2+8*5-6/3', '2+9/1*5-7', '2+9*5/1-7', '2+9*5-7/1', '3/1-5+6*7', '3/1-5+7*6', '3/1+5*9-8', '3/1+6*7-5', '3/1+7*6-5', '3/1-8+5*9', '3/1-8+9*5', '3/1+9*5-8', '3-5/1+6*7', '3-5/1+7*6', '3+5/1*9-8', '3-5+6/1*7', '3-5+6*7/1', '3-5+7/1*6', '3-5+7*6/1', '3+5*8-6/2', '3+5*9/1-8', '3+5*9-8/1', '3+6/1*7-5', '3-6/2+5*8', '3-6/2+8*5', '3+6*7/1-5', '3+6*7-5/1', '3+7/1*6-5', '3+7*6/1-5', '3+7*6-5/1', '3-8/1+5*9', '3-8/1+9*5', '3-8+5/1*9', '3+8*5-6/2', '3-8+5*9/1', '3-8+9/1*5', '3-8+9*5/1', '3+9/1*5-8', '3+9*5/1-8', '3+9*5-8/1', '4/1*9-2+6', '4/1*9-3+7', '4/1*9+6-2', '4/1*9+7-3', '4/2+5*9-7', '4/2-7+5*9', '4/2-7+9*5', '4/2+9*5-7', '4*9/1-2+6', '4*9/1-3+7', '4*9/1+6-2', '4*9/1+7-3', '4*9-2/1+6', '4*9-2+6/1', '4*9-3/1+7', '4*9-3+7/1', '4*9+6/1-2', '4*9+6-2/1', '4*9-6/2+7', '4*9+7/1-3', '4*9+7-3/1', '4*9+7-6/2', '5/1*7-3+8', '5/1*7-4+9', '5/1*7+8-3', '5/1*7+9-4', '5-1+8/2*9', '5-1+8*9/2', '5/1*9+2-7', '5-1+9/2*8', '5/1*9+3-8', '5/1*9-7+2', '5-1+9*8/2', '5/1*9-8+3', '5*7/1-3+8', '5*7/1-4+9', '5*7/1+8-3', '5*7/1+9-4', '5*7-3/1+8', '5*7-3+8/1', '5*7-4/1+9', '5*7-4+9/1', '5*7-6/2+8', '5*7+8/1-3', '5*7-8/2+9', '5*7+8-3/1', '5*7+8-6/2', '5*7+8-9/3', '5*7+9/1-4', '5*7-9/3+8', '5*7+9-4/1', '5*7+9-8/2', '5*8+2-6/3', '5*8-2+6/3', '5+8/2*9-1', '5*8+3-6/2', '5*8-3+6/2', '5*8+6/2-3', '5*8-6/2+3', '5*8+6/3-2', '5*8-6/3+2', '5+8*9/2-1', '5*9/1+2-7', '5*9/1+3-8', '5*9/1-7+2', '5*9/1-8+3', '5*9+2/1-7', '5*9+2-7/1', '5+9/2*8-1', '5*9+3/1-8', '5*9+3-8/1', '5*9+4/2-7', '5*9+6/2-8', '5*9+6/3-7', '5*9-7/1+2', '5*9-7+2/1', '5*9-7+4/2', '5*9-7+6/3', '5*9-7+8/4', '5*9-8/1+3', '5+9*8/2-1', '5*9-8+3/1', '5*9+8/4-7', '5*9-8+6/2', '6/1-2+4*9', '6/1-2+9*4', '6/1+4*9-2', '6/1*7+2-4', '6/1*7+3-5', '6/1*7-4+2', '6/1*7-5+3', '6/1+9*4-2', '6-2/1+4*9', '6-2/1+9*4', '6/2-3+5*8', '6/2-3+8*5', '6-2+4/1*9', '6-2+4*9/1', '6/2+5*8-3', '6/2+5*9-8', '6/2+8*5-3', '6/2-8+5*9', '6/2-8+9*5', '6-2+9/1*4', '6-2+9*4/1', '6/2+9*5-8', '6/3-2+5*8', '6/3-2+8*5', '6/3+5*8-2', '6/3+5*9-7', '6/3-7+5*9', '6/3-7+9*5', '6/3+8*5-2', '6/3+9*5-7', '6+4/1*9-2', '6+4*9/1-2', '6+4*9-2/1', '6*7/1+2-4', '6*7/1+3-5', '6*7/1-4+2', '6*7/1-5+3', '6*7+1-9/3', '6*7+2/1-4', '6*7+2-4/1', '6*7+3/1-5', '6*7+3-5/1', '6*7-4/1+2', '6*7-4+2/1', '6*7-5/1+3', '6*7-5+3/1', '6*7-5+9/3', '6*7-9/3+1', '6*7+9/3-5', '6+9/1*4-2', '6+9*4/1-2', '6+9*4-2/1', '7/1-3+4*9', '7/1-3+9*4', '7/1+4*9-3', '7/1*5-3+8', '7/1*5-4+9', '7/1*5+8-3', '7/1*5+9-4', '7/1*6+2-4', '7/1*6+3-5', '7/1*6-4+2', '7/1*6-5+3', '7/1+9*4-3', '7-3/1+4*9', '7-3/1+9*4', '7-3+4/1*9', '7-3+4*9/1', '7-3+8/2*9', '7-3+8*9/2', '7-3+9/1*4', '7-3+9/2*8', '7-3+9*4/1', '7-3+9*8/2', '7+4/1*9-3', '7+4*9/1-3', '7+4*9-3/1', '7+4*9-6/2', '7*5/1-3+8', '7*5/1-4+9', '7*5/1+8-3', '7*5/1+9-4', '7*5-3/1+8', '7*5-3+8/1', '7*5-4/1+9', '7*5-4+9/1', '7*5-6/2+8', '7*5+8/1-3', '7*5-8/2+9', '7*5+8-3/1', '7*5+8-6/2', '7*5+8-9/3', '7*5+9/1-4', '7*5-9/3+8', '7*5+9-4/1', '7*5+9-8/2', '7*6/1+2-4', '7*6/1+3-5', '7*6/1-4+2', '7*6/1-5+3', '7*6+1-9/3', '7*6+2/1-4', '7*6+2-4/1', '7-6/2+4*9', '7-6/2+9*4', '7*6+3/1-5', '7*6+3-5/1', '7*6-4/1+2', '7*6-4+2/1', '7*6-5/1+3', '7*6-5+3/1', '7*6-5+9/3', '7*6-9/3+1', '7*6+9/3-5', '7+8/2*9-3', '7+8*9/2-3', '7+9/1*4-3', '7+9/2*8-3', '7+9*4/1-3', '7+9*4-3/1', '7+9*4-6/2', '7+9*8/2-3', '8/1-3+5*7', '8/1-3+7*5', '8/1+5*7-3', '8/1+7*5-3', '8/2*9-1+5', '8/2*9-3+7', '8/2*9+5-1', '8/2*9+7-3', '8-3/1+5*7', '8-3/1+7*5', '8-3+5/1*7', '8-3+5*7/1', '8-3+7/1*5', '8-3+7*5/1', '8/4+5*9-7', '8/4-7+5*9', '8/4-7+9*5', '8/4+9*5-7', '8+5/1*7-3', '8*5+2-6/3', '8*5-2+6/3', '8*5+3-6/2', '8*5-3+6/2', '8*5+6/2-3', '8*5-6/2+3', '8*5+6/3-2', '8*5-6/3+2', '8+5*7/1-3', '8+5*7-3/1', '8+5*7-6/2', '8+5*7-9/3', '8-6/2+5*7', '8-6/2+7*5', '8+7/1*5-3', '8+7*5/1-3', '8+7*5-3/1', '8+7*5-6/2', '8+7*5-9/3', '8*9/2-1+5', '8*9/2-3+7', '8*9/2+5-1', '8*9/2+7-3', '8-9/3+5*7', '8-9/3+7*5', '9/1*4-2+6', '9/1*4-3+7', '9/1-4+5*7', '9/1*4+6-2', '9/1*4+7-3', '9/1-4+7*5', '9/1*5+2-7', '9/1*5+3-8', '9/1*5-7+2', '9/1+5*7-4', '9/1*5-8+3', '9/1+7*5-4', '9/2*8-1+5', '9/2*8-3+7', '9/2*8+5-1', '9/2*8+7-3', '9/3-5+6*7', '9/3-5+7*6', '9/3+6*7-5', '9/3+7*6-5', '9*4/1-2+6', '9*4/1-3+7', '9-4/1+5*7', '9*4/1+6-2', '9*4/1+7-3', '9-4/1+7*5', '9*4-2/1+6', '9*4-2+6/1', '9*4-3/1+7', '9*4-3+7/1', '9-4+5/1*7', '9-4+5*7/1', '9*4+6/1-2', '9*4+6-2/1', '9*4-6/2+7', '9*4+7/1-3', '9-4+7/1*5', '9*4+7-3/1', '9-4+7*5/1', '9*4+7-6/2', '9*5/1+2-7', '9*5/1+3-8', '9*5/1-7+2', '9+5/1*7-4', '9*5/1-8+3', '9*5+2/1-7', '9*5+2-7/1', '9*5+3/1-8', '9*5+3-8/1', '9*5+4/2-7', '9*5+6/2-8', '9*5+6/3-7', '9*5-7/1+2', '9+5*7/1-4', '9*5-7+2/1', '9+5*7-4/1', '9*5-7+4/2', '9*5-7+6/3', '9+5*7-8/2', '9*5-7+8/4', '9*5-8/1+3', '9*5-8+3/1', '9*5+8/4-7', '9*5-8+6/2', '9+7/1*5-4', '9+7*5/1-4', '9+7*5-4/1', '9+7*5-8/2', '9*8/2-1+5', '9*8/2-3+7', '9*8/2+5-1', '9-8/2+5*7', '9*8/2+7-3', '9-8/2+7*5']\n"
          ]
        }
      ]
    },
    {
      "cell_type": "markdown",
      "metadata": {
        "id": "tgrnsC2nkFa8"
      },
      "source": [
        "Calcula la complejidad del algoritmo por fuerza bruta"
      ]
    },
    {
      "cell_type": "markdown",
      "metadata": {
        "id": "9eUd3xwckP68"
      },
      "source": [
        "Respuesta"
      ]
    },
    {
      "cell_type": "code",
      "source": [
        "#Respuesta"
      ],
      "metadata": {
        "id": "o321IL3bYMp6"
      },
      "execution_count": null,
      "outputs": []
    },
    {
      "cell_type": "markdown",
      "source": [
        "En este algoritmo podemos diferenciar dos bucles grandes los cuales tenemos en una primera estancia una variación sin repetición de los números del 1 al 9, en grupos de 5 y por otro lado tenemos una permutación de los operadores.</br>\n",
        "El orden de complejidad por fuerza bruta es de $O({n!\\over(n-k)!} o!.o)$ siendo $n > o$ y $(n-k) = o$ por lo que el orden queda determinado por O(n!)"
      ],
      "metadata": {
        "id": "y9zq5-Yn0krL"
      }
    },
    {
      "cell_type": "code",
      "metadata": {
        "id": "rvZWwL-ckRST"
      },
      "source": [],
      "execution_count": null,
      "outputs": []
    },
    {
      "cell_type": "markdown",
      "metadata": {
        "id": "txbrmLmskReM"
      },
      "source": [
        "(*)Diseña un algoritmo que mejore la complejidad del algortimo por fuerza bruta. Argumenta porque crees que mejora el algoritmo por fuerza bruta"
      ]
    },
    {
      "cell_type": "markdown",
      "metadata": {
        "id": "hLrVwt5QkZPD"
      },
      "source": [
        "Respuesta"
      ]
    },
    {
      "cell_type": "code",
      "metadata": {
        "id": "m1eyM21Vkabg",
        "colab": {
          "base_uri": "https://localhost:8080/"
        },
        "outputId": "fc20a508-d710-4c9e-9731-4fa58d3c180a"
      },
      "source": [
        "import numpy as np\n",
        "#Respuesta:\n",
        "iteraciones = [0]\n",
        "# Con poda\n",
        "# Función que evalua la expresión devolviendo inf si fuese erronea.\n",
        "def evaluar_expresion(expresion):\n",
        "    try:\n",
        "        return eval(expresion)\n",
        "    except:\n",
        "        return float('inf')\n",
        "soluciones = []\n",
        "def busqueda_en_profundidad_poda(expresion, numeros, operadores, resultado, longitud_expresion_maxima):\n",
        "   \n",
        "    # Poda resultados menores que el resultado objetivo menos la media aritmética de los números restantes, cuando se hayan usado tanto la resta junto a la multiplicación y el siguiente operando no sea división\n",
        "    if len(expresion) > 3  and len(expresion) < longitud_expresion_maxima and '-' == expresion[-3] and expresion[-1] == \"*\" and  evaluar_expresion(expresion +  str(np.mean(numeros)))  < resultado - np.mean(numeros):\n",
        "      if operadores and operadores[0] != \"/\":\n",
        "        return None\n",
        "\n",
        "    # Si tenemos una suma con una multiplicacíon y alguno de estos operandos es mayor que el resultado, podamos\n",
        "    if len(expresion) > 3  and len(expresion) < longitud_expresion_maxima and '+' == expresion[-3] and expresion[-1] == \"*\":\n",
        "      if int(expresion[-2]) >= resultado or numeros[0] >= resultado:\n",
        "        return None\n",
        "\n",
        "    # si estamos muy avanzados y estamos por debajo de cero + la media de los números de entrada podamos, tenemos 3 números y dos operandos\n",
        "    if len(expresion) == (longitud_expresion_maxima-3):\n",
        "      if evaluar_expresion(expresion[:-1]) < 0 - np.mean(numeros):\n",
        "        #print(expresion)\n",
        "        return None\n",
        "\n",
        "    # Poda resultados menores que el resultado objetivo menos la media aritmética de los números restantes, cuando se haya usado tanto la multiplicación como la división\n",
        "    if len(expresion) < longitud_expresion_maxima and  evaluar_expresion(expresion[:-1]) < resultado - np.mean(numeros):\n",
        "        if '*' in expresion[:-1] and '/' in expresion[:-1]:\n",
        "            return None\n",
        "\n",
        "    \n",
        "    # Si no quedan operadoes, es que ya se ha creado al completo la expresiónm, a falta del último número\n",
        "    if not operadores:\n",
        "        for i in range(len(numeros)):\n",
        "          iteraciones[0] += 1\n",
        "          eval_expresion = expresion + str(numeros[i])\n",
        "          if eval(eval_expresion) == resultado:\n",
        "              soluciones.append(eval_expresion)\n",
        "              return eval_expresion\n",
        "    else:\n",
        "      iteraciones[0] += 1\n",
        "\n",
        "    for i in range(len(numeros)):\n",
        "        for j in range(len(operadores)):\n",
        "            _numeros = numeros[:i] + numeros[i+1:]\n",
        "            _operadores = operadores[:j] + operadores[j+1:]\n",
        "            # sacamos el número y el operador , y recreamos las listas sin ellos.\n",
        "            # llamamos recursivamente con las nuevas listas.\n",
        "            res = busqueda_en_profundidad_poda(expresion + str(numeros[i]) + operadores[j], _numeros, _operadores, resultado, longitud_expresion_maxima)\n",
        "            \n",
        "longitud_expresion_maxima =  len(['+', '-', '*', '/'])*2 + 1\n",
        "promedio = np.mean([1, 2, 3, 4, 5, 6, 7, 8, 9])\n",
        "busqueda_en_profundidad_poda(\"\", [1, 2, 3, 4, 5, 6, 7, 8, 9], ['+', '-', '*', '/'], 4, longitud_expresion_maxima)\n",
        "print(f\"{len(soluciones)} resultado obtenidos en {iteraciones} iteraciones\" )\n",
        "print(\"Soluciones: \")\n",
        "print(soluciones)\n"
      ],
      "execution_count": 5,
      "outputs": [
        {
          "output_type": "stream",
          "name": "stdout",
          "text": [
            "1482 resultado obtenidos en [242670] iteraciones\n",
            "Soluciones: \n",
            "['1+3*8/2-9', '1+3/2*8-9', '1+4-2*3/6', '1+4-2/6*3', '1+4-3*2/6', '1+4-3/6*2', '1+4/2*5-7', '1+4/2*6-9', '1+4/3*6-5', '1+4/6*9-3', '1+5-3*4/6', '1+5-3*6/9', '1+5-3/6*4', '1+5-3/9*6', '1+5-4*3/6', '1+5-4/6*3', '1+5-6*3/9', '1+5-6/9*3', '1+5/2*4-7', '1+5/3*6-7', '1+5/4*8-7', '1+6/2*4-9', '1+6/3*4-5', '1+6/3*5-7', '1+6/4*8-9', '1+7-2*6/3', '1+7-2*8/4', '1+7-2/3*6', '1+7-2/4*8', '1+7-3*8/6', '1+7-3/6*8', '1+7-6*2/3', '1+7-6/3*2', '1+7-8*2/4', '1+7-8*3/6', '1+7-8/4*2', '1+7-8/6*3', '1+8/2*3-9', '1+8/4*5-7', '1+8/4*6-9', '1+9-3*4/2', '1+9-3*8/4', '1+9-3/2*4', '1+9-3/4*8', '1+9-4*3/2', '1+9-4/2*3', '1+9-8*3/4', '1+9-8/4*3', '1+9/6*4-3', '1-2/6*3+4', '1-3+4/6*9', '1-3+9/6*4', '1-3/6*2+4', '1-3/6*4+5', '1-3/9*6+5', '1-4/6*3+5', '1-5+4/3*6', '1-5+6/3*4', '1-6/9*3+5', '1-7+4/2*5', '1-7+5/2*4', '1-7+5/3*6', '1-7+5/4*8', '1-7+6/3*5', '1-7+8/4*5', '1-9+3*8/2', '1-9+3/2*8', '1-9+4/2*6', '1-9+6/2*4', '1-9+6/4*8', '1-9+8/2*3', '1-9+8/4*6', '1*2+4-6/3', '1*2+5-9/3', '1*2-6/3+4', '1*3+4-6/2', '1*3+5-8/2', '1*3-6/2+4', '1*3-8/2+5', '1*4+2-6/3', '1*4+3-6/2', '1*4+6/2-3', '1*4+6/3-2', '1*4-2+6/3', '1*4-3+6/2', '1*4-6/2+3', '1*4-6/3+2', '1*4/2+5-3', '1*4/2+7-5', '1*4/2+8-6', '1*4/2+9-7', '1*4/2-3+5', '1*5+2-9/3', '1*5+3-8/2', '1*5+4/2-3', '1*5+6/2-4', '1*5+8/4-3', '1*5+9/3-4', '1*5-3+4/2', '1*5-3+8/4', '1*5-4+6/2', '1*5-4+9/3', '1*5-8/2+3', '1*5-9/3+2', '1*6+9/3-5', '1*6-5+9/3', '1*6/2+4-3', '1*6/2+5-4', '1*6/2+8-7', '1*6/2+9-8', '1*6/2-3+4', '1*6/2-4+5', '1*6/3+4-2', '1*6/3+7-5', '1*6/3+9-7', '1*6/3-2+4', '1*7+4/2-5', '1*7+6/3-5', '1*7+8/4-5', '1*7+9/3-6', '1*7-5+4/2', '1*7-5+6/3', '1*7-5+8/4', '1*7-6+9/3', '1*8+4/2-6', '1*8+6/2-7', '1*8+9/3-7', '1*8-6+4/2', '1*8-7+6/2', '1*8-7+9/3', '1*8/4+5-3', '1*8/4+7-5', '1*8/4+9-7', '1*8/4-3+5', '1*9+4/2-7', '1*9+6/2-8', '1*9+6/3-7', '1*9+8/4-7', '1*9-7+4/2', '1*9-7+6/3', '1*9-7+8/4', '1*9-8+6/2', '1*9/3+5-4', '1*9/3+6-5', '1*9/3+7-6', '1*9/3+8-7', '1*9/3-4+5', '1/2*4+5-3', '1/2*4+7-5', '1/2*4+8-6', '1/2*4+9-7', '1/2*4-3+5', '1/2*6+4-3', '1/2*6+5-4', '1/2*6+8-7', '1/2*6+9-8', '1/2*6-3+4', '1/2*6-4+5', '1/3*6+4-2', '1/3*6+7-5', '1/3*6+9-7', '1/3*6-2+4', '1/3*9+5-4', '1/3*9+6-5', '1/3*9+7-6', '1/3*9+8-7', '1/3*9-4+5', '1/4*8+5-3', '1/4*8+7-5', '1/4*8+9-7', '1/4*8-3+5', '2+1*4-6/3', '2+1*5-9/3', '2+4-1*6/3', '2+4-1/3*6', '2+4-3*6/9', '2+4-3/9*6', '2+4-6*1/3', '2+4-6*3/9', '2+4-6/3*1', '2+4-6/9*3', '2+4/8*6-1', '2+5-1*9/3', '2+5-1/3*9', '2+5-4*6/8', '2+5-4/8*6', '2+5-6*4/8', '2+5-6/8*4', '2+5-9*1/3', '2+5-9/3*1', '2+5/3*6-8', '2+6/3*5-8', '2+6/8*4-1', '2+8-4*9/6', '2+8-4/6*9', '2+8-9*4/6', '2+8-9/6*4', '2-1+4/8*6', '2-1+6/8*4', '2-1/3*6+4', '2-1/3*9+5', '2-3/9*6+4', '2-4/8*6+5', '2-6/3*1+4', '2-6/8*4+5', '2-6/9*3+4', '2-8+5/3*6', '2-8+6/3*5', '2-9/3*1+5', '2*1+4-6/3', '2*1+5-9/3', '2*1-6/3+4', '2*3+4-6/1', '2*3+4/1-6', '2*3+5-7/1', '2*3+5/1-7', '2*3+6-8/1', '2*3+6/1-8', '2*3+7-9/1', '2*3+7/1-9', '2*3-6+4/1', '2*3-6/1+4', '2*3-7+5/1', '2*3-7/1+5', '2*3-8+6/1', '2*3-8/1+6', '2*3-9+7/1', '2*3/1+4-6', '2*3/1+5-7', '2*3/1+6-8', '2*3/1+7-9', '2*3/1-6+4', '2*3/1-7+5', '2*3/1-8+6', '2*3/6+4-1', '2*3/6+7-4', '2*3/6+8-5', '2*3/6-1+4', '2*4+3-7/1', '2*4+3/1-7', '2*4+5-9/1', '2*4+5/1-9', '2*4+9/3-7', '2*4-7+3/1', '2*4-7+9/3', '2*4-7/1+3', '2*4-9+5/1', '2*4-9/1+5', '2*4/1+3-7', '2*4/1+5-9', '2*4/1-7+3', '2*4/1-9+5', '2*4/8+6-3', '2*4/8+9-6', '2*5+3-9/1', '2*5+3/1-9', '2*5+6/3-8', '2*5-8+6/3', '2*5-9+3/1', '2*5-9/1+3', '2*5/1+3-9', '2*5/1-9+3', '2*6/4+8-7', '2*6/4+9-8', '2*9/3+4-6', '2*9/3+5-7', '2*9/3+6-8', '2*9/3-6+4', '2*9/6+4-3', '2*9/6+5-4', '2*9/6+8-7', '2*9/6-3+4', '2/1*3+4-6', '2/1*3+5-7', '2/1*3+6-8', '2/1*3+7-9', '2/1*3-6+4', '2/1*3-7+5', '2/1*3-8+6', '2/1*4+3-7', '2/1*4+5-9', '2/1*4-7+3', '2/1*4-9+5', '2/1*5+3-9', '2/1*5-9+3', '2/3*9+4-6', '2/3*9+5-7', '2/3*9+6-8', '2/3*9-6+4', '2/4*6+8-7', '2/4*6+9-8', '2/6*3+4-1', '2/6*3+7-4', '2/6*3+8-5', '2/6*3-1+4', '2/6*9+4-3', '2/6*9+5-4', '2/6*9+8-7', '2/6*9-3+4', '2/8*4+6-3', '2/8*4+9-6', '3+1*4-6/2', '3+1*5-8/2', '3+2*4-7/1', '3+2*4/1-7', '3+2*5-9/1', '3+2*5/1-9', '3+2/1*4-7', '3+2/1*5-9', '3+4-1*6/2', '3+4-1/2*6', '3+4-2*9/6', '3+4-2/6*9', '3+4-6*1/2', '3+4-6/2*1', '3+4-9*2/6', '3+4-9/6*2', '3+4/1*2-7', '3+4/2*5-9', '3+4/6*9-5', '3+4/8*6-2', '3+5-1*8/2', '3+5-1/2*8', '3+5-2*8/4', '3+5-2/4*8', '3+5-8*1/2', '3+5-8*2/4', '3+5-8/2*1', '3+5-8/4*2', '3+5/1*2-9', '3+5/2*4-9', '3+5/4*8-9', '3+6/8*4-2', '3+7-4*9/6', '3+7-4/6*9', '3+7-9*4/6', '3+7-9/6*4', '3+8/4*5-9', '3+9-2*4/1', '3+9-2/1*4', '3+9-4*2/1', '3+9-4/1*2', '3+9/1-2*4', '3+9/1-4*2', '3+9/6*4-5', '3-1/2*6+4', '3-1/2*8+5', '3-2+4/8*6', '3-2+6/8*4', '3-2/4*8+5', '3-2/6*9+4', '3-5+4/6*9', '3-5+9/6*4', '3-6/2*1+4', '3-7+2*4/1', '3-7+2/1*4', '3-7+4/1*2', '3-8/2*1+5', '3-8/4*2+5', '3-9+2*5/1', '3-9+2/1*5', '3-9+4/2*5', '3-9+5/1*2', '3-9+5/2*4', '3-9+5/4*8', '3-9+8/4*5', '3-9/6*2+4', '3*1+4-6/2', '3*1+5-8/2', '3*1-6/2+4', '3*1-8/2+5', '3*2+4-6/1', '3*2+4/1-6', '3*2+5-7/1', '3*2+5/1-7', '3*2+6-8/1', '3*2+6/1-8', '3*2+7-9/1', '3*2+7/1-9', '3*2-6+4/1', '3*2-6/1+4', '3*2-7+5/1', '3*2-7/1+5', '3*2-8+6/1', '3*2-8/1+6', '3*2-9+7/1', '3*2/1+4-6', '3*2/1+5-7', '3*2/1+6-8', '3*2/1+7-9', '3*2/1-6+4', '3*2/1-7+5', '3*2/1-8+6', '3*2/6+4-1', '3*2/6+7-4', '3*2/6+8-5', '3*2/6-1+4', '3*4/2+5-7', '3*4/2+6-8', '3*4/2+7-9', '3*4/2-7+5', '3*4/6+7-5', '3*4/6+9-7', '3*6/2+4-9', '3*6/2-9+4', '3*6/9+4-2', '3*6/9+7-5', '3*6/9-2+4', '3*8/2+1-9', '3*8/2-9+1', '3*8/4+5-7', '3*8/4+7-9', '3/1+9-2*4', '3/1+9-4*2', '3/1*2+4-6', '3/1*2+5-7', '3/1*2+6-8', '3/1*2+7-9', '3/1*2-6+4', '3/1*2-7+5', '3/1*2-8+6', '3/2*4+5-7', '3/2*4+6-8', '3/2*4+7-9', '3/2*4-7+5', '3/2*6+4-9', '3/2*6-9+4', '3/2*8+1-9', '3/2*8-9+1', '3/4*8+5-7', '3/4*8+7-9', '3/6*2+4-1', '3/6*2+7-4', '3/6*2+8-5', '3/6*2-1+4', '3/6*4+7-5', '3/6*4+9-7', '3/9*6+4-2', '3/9*6+7-5', '3/9*6-2+4', '4+1-2*3/6', '4+1-2/6*3', '4+1-3*2/6', '4+1-3/6*2', '4+1*2-6/3', '4+1*3-6/2', '4+1*6/2-3', '4+1*6/3-2', '4+1/2*6-3', '4+1/3*6-2', '4+2-1*6/3', '4+2-1/3*6', '4+2-3*6/9', '4+2-3/9*6', '4+2-6*1/3', '4+2-6*3/9', '4+2-6/3*1', '4+2-6/9*3', '4+2*1-6/3', '4+2*3-6/1', '4+2*3/1-6', '4+2*3/6-1', '4+2*9/3-6', '4+2*9/6-3', '4+2/1*3-6', '4+2/3*9-6', '4+2/6*3-1', '4+2/6*9-3', '4+3-1*6/2', '4+3-1/2*6', '4+3-2*9/6', '4+3-2/6*9', '4+3-6*1/2', '4+3-6/2*1', '4+3-9*2/6', '4+3-9/6*2', '4+3*1-6/2', '4+3*2-6/1', '4+3*2/1-6', '4+3*2/6-1', '4+3*6/2-9', '4+3*6/9-2', '4+3/1*2-6', '4+3/2*6-9', '4+3/6*2-1', '4+3/9*6-2', '4+6-2*3/1', '4+6-2*9/3', '4+6-2/1*3', '4+6-2/3*9', '4+6-3*2/1', '4+6-3/1*2', '4+6-9*2/3', '4+6-9/3*2', '4+6/1-2*3', '4+6/1-3*2', '4+6/2-1*3', '4+6/2-3*1', '4+6/2*1-3', '4+6/2*3-9', '4+6/3-1*2', '4+6/3-2*1', '4+6/3*1-2', '4+6/9*3-2', '4+9-3*6/2', '4+9-3/2*6', '4+9-6*3/2', '4+9-6/2*3', '4+9/3*2-6', '4+9/6*2-3', '4-1+2*3/6', '4-1+2/6*3', '4-1+3*2/6', '4-1+3/6*2', '4-1*2+6/3', '4-1*3+6/2', '4-1*6/2+3', '4-1*6/3+2', '4-1/2*6+3', '4-1/3*6+2', '4-2+1*6/3', '4-2+1/3*6', '4-2+3*6/9', '4-2+3/9*6', '4-2+6/3*1', '4-2+6/9*3', '4-2/1*3+6', '4-2/6*3+1', '4-2/6*9+3', '4-3+1*6/2', '4-3+1/2*6', '4-3+2*9/6', '4-3+2/6*9', '4-3+6/2*1', '4-3+9/6*2', '4-3/1*2+6', '4-3/6*2+1', '4-3/9*6+2', '4-6+2*3/1', '4-6+2*9/3', '4-6+2/1*3', '4-6+2/3*9', '4-6+3*2/1', '4-6+3/1*2', '4-6+9/3*2', '4-6/1+2*3', '4-6/1+3*2', '4-6/2+1*3', '4-6/2+3*1', '4-6/2*1+3', '4-6/3+1*2', '4-6/3+2*1', '4-6/3*1+2', '4-6/9*3+2', '4-9+3*6/2', '4-9+3/2*6', '4-9+6/2*3', '4-9/6*2+3', '4*1+2-6/3', '4*1+3-6/2', '4*1+6/2-3', '4*1+6/3-2', '4*1-2+6/3', '4*1-3+6/2', '4*1-6/2+3', '4*1-6/3+2', '4*1/2+5-3', '4*1/2+7-5', '4*1/2+8-6', '4*1/2+9-7', '4*1/2-3+5', '4*2+3-7/1', '4*2+3/1-7', '4*2+5-9/1', '4*2+5/1-9', '4*2+9/3-7', '4*2-7+3/1', '4*2-7+9/3', '4*2-7/1+3', '4*2-9+5/1', '4*2-9/1+5', '4*2/1+3-7', '4*2/1+5-9', '4*2/1-7+3', '4*2/1-9+5', '4*2/8+6-3', '4*2/8+9-6', '4*3/2+5-7', '4*3/2+6-8', '4*3/2+7-9', '4*3/2-7+5', '4*3/6+7-5', '4*3/6+9-7', '4*5/2+1-7', '4*5/2+3-9', '4*5/2-7+1', '4*5/2-9+3', '4*6/2+1-9', '4*6/2-9+1', '4*6/3+1-5', '4*6/3+5-9', '4*6/3-5+1', '4*6/8+2-1', '4*6/8+3-2', '4*6/8-1+2', '4*6/8-2+3', '4*9/6+1-3', '4*9/6+3-5', '4*9/6+5-7', '4*9/6-3+1', '4*9/6-5+3', '4/1+2*3-6', '4/1+3*2-6', '4/1+6-2*3', '4/1+6-3*2', '4/1-6+2*3', '4/1-6+3*2', '4/1*2+3-7', '4/1*2+5-9', '4/1*2-7+3', '4/1*2-9+5', '4/2+1*5-3', '4/2+1*7-5', '4/2+1*8-6', '4/2+1*9-7', '4/2+5-1*3', '4/2+5-3*1', '4/2+7-1*5', '4/2+7-5*1', '4/2+8-1*6', '4/2+8-6*1', '4/2+9-1*7', '4/2+9-7*1', '4/2-5+1*7', '4/2-6+1*8', '4/2-7+1*9', '4/2*1+5-3', '4/2*1+7-5', '4/2*1+8-6', '4/2*1+9-7', '4/2*1-3+5', '4/2*3+5-7', '4/2*3+6-8', '4/2*3+7-9', '4/2*3-7+5', '4/2*5+1-7', '4/2*5+3-9', '4/2*5-7+1', '4/2*5-9+3', '4/2*6+1-9', '4/2*6-9+1', '4/3*6+1-5', '4/3*6+5-9', '4/3*6-5+1', '4/6*3+7-5', '4/6*3+9-7', '4/6*9+1-3', '4/6*9+3-5', '4/6*9+5-7', '4/6*9-3+1', '4/6*9-5+3', '4/8*2+6-3', '4/8*2+9-6', '4/8*6+2-1', '4/8*6+3-2', '4/8*6-1+2', '4/8*6-2+3', '5+1-3*4/6', '5+1-3*6/9', '5+1-3/6*4', '5+1-3/9*6', '5+1-4*3/6', '5+1-4/6*3', '5+1-6*3/9', '5+1-6/9*3', '5+1*2-9/3', '5+1*3-8/2', '5+1*4/2-3', '5+1*6/2-4', '5+1*8/4-3', '5+1*9/3-4', '5+1/2*4-3', '5+1/2*6-4', '5+1/3*9-4', '5+1/4*8-3', '5+2-1*9/3', '5+2-1/3*9', '5+2-4*6/8', '5+2-4/8*6', '5+2-6*4/8', '5+2-6/8*4', '5+2-9*1/3', '5+2-9/3*1', '5+2*1-9/3', '5+2*3-7/1', '5+2*3/1-7', '5+2*4-9/1', '5+2*4/1-9', '5+2*9/3-7', '5+2*9/6-4', '5+2/1*3-7', '5+2/1*4-9', '5+2/3*9-7', '5+2/6*9-4', '5+3-1*8/2', '5+3-1/2*8', '5+3-2*8/4', '5+3-2/4*8', '5+3-8*1/2', '5+3-8*2/4', '5+3-8/2*1', '5+3-8/4*2', '5+3*1-8/2', '5+3*2-7/1', '5+3*2/1-7', '5+3*4/2-7', '5+3*8/4-7', '5+3/1*2-7', '5+3/2*4-7', '5+3/4*8-7', '5+4/1*2-9', '5+4/2-1*3', '5+4/2-3*1', '5+4/2*1-3', '5+4/2*3-7', '5+4/3*6-9', '5+4/6*9-7', '5+6/2-1*4', '5+6/2-4*1', '5+6/2*1-4', '5+6/3*4-9', '5+7-2*4/1', '5+7-2/1*4', '5+7-4*2/1', '5+7-4*6/3', '5+7-4/1*2', '5+7-4/3*6', '5+7-6*4/3', '5+7-6/3*4', '5+7/1-2*4', '5+7/1-4*2', '5+8-3*6/2', '5+8-3/2*6', '5+8-6*3/2', '5+8-6/2*3', '5+8/4-1*3', '5+8/4-3*1', '5+8/4*1-3', '5+8/4*3-7', '5+9/3-1*4', '5+9/3-4*1', '5+9/3*1-4', '5+9/3*2-7', '5+9/6*2-4', '5+9/6*4-7', '5-1*3+4/2', '5-1*3+8/4', '5-1*4+6/2', '5-1*4+9/3', '5-1*8/2+3', '5-1*9/3+2', '5-1/2*8+3', '5-1/3*9+2', '5-2/4*8+3', '5-3+1*4/2', '5-3+1*8/4', '5-3+1/2*4', '5-3+1/4*8', '5-3+4/2*1', '5-3+8/4*1', '5-3/6*4+1', '5-3/9*6+1', '5-4+1*6/2', '5-4+1*9/3', '5-4+1/2*6', '5-4+1/3*9', '5-4+2*9/6', '5-4+2/6*9', '5-4+6/2*1', '5-4+9/3*1', '5-4+9/6*2', '5-4/6*3+1', '5-4/8*6+2', '5-6/8*4+2', '5-6/9*3+1', '5-7+2*3/1', '5-7+2*9/3', '5-7+2/1*3', '5-7+2/3*9', '5-7+3*2/1', '5-7+3*4/2', '5-7+3*8/4', '5-7+3/1*2', '5-7+3/2*4', '5-7+3/4*8', '5-7+4/2*3', '5-7+4/6*9', '5-7+8/4*3', '5-7+9/3*2', '5-7+9/6*4', '5-7/1+2*3', '5-7/1+3*2', '5-8/2+1*3', '5-8/2+3*1', '5-8/2*1+3', '5-8/4*2+3', '5-9+2*4/1', '5-9+2/1*4', '5-9+4/1*2', '5-9+4/3*6', '5-9+6/3*4', '5-9/1+2*4', '5-9/3+1*2', '5-9/3+2*1', '5-9/3*1+2', '5*1+2-9/3', '5*1+3-8/2', '5*1+4/2-3', '5*1+6/2-4', '5*1+8/4-3', '5*1+9/3-4', '5*1-3+4/2', '5*1-3+8/4', '5*1-4+6/2', '5*1-4+9/3', '5*1-8/2+3', '5*1-9/3+2', '5*2+3-9/1', '5*2+3/1-9', '5*2+6/3-8', '5*2-8+6/3', '5*2-9+3/1', '5*2-9/1+3', '5*2/1+3-9', '5*2/1-9+3', '5*4/2+1-7', '5*4/2+3-9', '5*4/2-7+1', '5*4/2-9+3', '5*6/3+1-7', '5*6/3+2-8', '5*6/3-7+1', '5*6/3-8+2', '5*8/4+1-7', '5*8/4+3-9', '5*8/4-7+1', '5*8/4-9+3', '5/1+2*3-7', '5/1+2*4-9', '5/1+3*2-7', '5/1+7-2*4', '5/1+7-4*2', '5/1-7+2*3', '5/1-7+3*2', '5/1-9+2*4', '5/1*2+3-9', '5/1*2-9+3', '5/2*4+1-7', '5/2*4+3-9', '5/2*4-7+1', '5/2*4-9+3', '5/3*6+1-7', '5/3*6+2-8', '5/3*6-7+1', '5/3*6-8+2', '5/4*8+1-7', '5/4*8+3-9', '5/4*8-7+1', '5/4*8-9+3', '6+1*9/3-5', '6+1/3*9-5', '6+2*3-8/1', '6+2*3/1-8', '6+2*4/8-3', '6+2*9/3-8', '6+2/1*3-8', '6+2/3*9-8', '6+2/8*4-3', '6+3*2-8/1', '6+3*2/1-8', '6+3*4/2-8', '6+3/1*2-8', '6+3/2*4-8', '6+4-2*3/1', '6+4-2*9/3', '6+4-2/1*3', '6+4-2/3*9', '6+4-3*2/1', '6+4-3/1*2', '6+4-9*2/3', '6+4-9/3*2', '6+4/1-2*3', '6+4/1-3*2', '6+4/2*3-8', '6+4/8*2-3', '6+8-2*5/1', '6+8-2/1*5', '6+8-4*5/2', '6+8-4/2*5', '6+8-5*2/1', '6+8-5*4/2', '6+8-5/1*2', '6+8-5/2*4', '6+8/1-2*5', '6+8/1-5*2', '6+9/3-1*5', '6+9/3-5*1', '6+9/3*1-5', '6+9/3*2-8', '6-1*5+9/3', '6-2/1*3+4', '6-2/3*9+4', '6-3+2*4/8', '6-3+2/8*4', '6-3+4/8*2', '6-3/1*2+4', '6-5+1*9/3', '6-5+1/3*9', '6-5+9/3*1', '6-8+2*3/1', '6-8+2*9/3', '6-8+2/1*3', '6-8+2/3*9', '6-8+3*2/1', '6-8+3*4/2', '6-8+3/1*2', '6-8+3/2*4', '6-8+4/2*3', '6-8+9/3*2', '6-8/1+2*3', '6-8/1+3*2', '6-9/3*2+4', '6*1+9/3-5', '6*1-5+9/3', '6*1/2+4-3', '6*1/2+5-4', '6*1/2+8-7', '6*1/2+9-8', '6*1/2-3+4', '6*1/2-4+5', '6*1/3+4-2', '6*1/3+7-5', '6*1/3+9-7', '6*1/3-2+4', '6*2/4+8-7', '6*2/4+9-8', '6*3/2+4-9', '6*3/2-9+4', '6*3/9+4-2', '6*3/9+7-5', '6*3/9-2+4', '6*4/2+1-9', '6*4/2-9+1', '6*4/3+1-5', '6*4/3+5-9', '6*4/3-5+1', '6*4/8+2-1', '6*4/8+3-2', '6*4/8-1+2', '6*4/8-2+3', '6*5/3+1-7', '6*5/3+2-8', '6*5/3-7+1', '6*5/3-8+2', '6*8/4+1-9', '6*8/4-9+1', '6/1+2*3-8', '6/1+3*2-8', '6/1+4-2*3', '6/1+4-3*2', '6/1+8-2*5', '6/1+8-5*2', '6/1-8+2*3', '6/1-8+3*2', '6/2+1*4-3', '6/2+1*5-4', '6/2+1*8-7', '6/2+1*9-8', '6/2+4-1*3', '6/2+4-3*1', '6/2+5-1*4', '6/2+5-4*1', '6/2+8-1*7', '6/2+8-7*1', '6/2+9-1*8', '6/2+9-8*1', '6/2-4+1*5', '6/2-7+1*8', '6/2*1+4-3', '6/2*1+5-4', '6/2*1+8-7', '6/2*1+9-8', '6/2*1-3+4', '6/2*1-4+5', '6/2*3+4-9', '6/2*3-9+4', '6/2*4+1-9', '6/2*4-9+1', '6/3+1*4-2', '6/3+1*7-5', '6/3+1*9-7', '6/3+2*5-8', '6/3+4-1*2', '6/3+4-2*1', '6/3+7-1*5', '6/3+7-5*1', '6/3+9-1*7', '6/3+9-7*1', '6/3-5+1*7', '6/3*1+4-2', '6/3*1+7-5', '6/3*1+9-7', '6/3*1-2+4', '6/3*4+1-5', '6/3*4+5-9', '6/3*4-5+1', '6/3*5+1-7', '6/3*5+2-8', '6/3*5-7+1', '6/3*5-8+2', '6/4*2+8-7', '6/4*2+9-8', '6/4*8+1-9', '6/4*8-9+1', '6/8*4+2-1', '6/8*4+3-2', '6/8*4-1+2', '6/8*4-2+3', '6/9*3+4-2', '6/9*3+7-5', '6/9*3-2+4', '7+1-2*6/3', '7+1-2*8/4', '7+1-2/3*6', '7+1-2/4*8', '7+1-3*8/6', '7+1-3/6*8', '7+1-6*2/3', '7+1-6/3*2', '7+1-8*2/4', '7+1-8*3/6', '7+1-8/4*2', '7+1-8/6*3', '7+1*4/2-5', '7+1*6/3-5', '7+1*8/4-5', '7+1*9/3-6', '7+1/2*4-5', '7+1/3*6-5', '7+1/3*9-6', '7+1/4*8-5', '7+2*3-9/1', '7+2*3/1-9', '7+2*3/6-4', '7+2/1*3-9', '7+2/6*3-4', '7+3-4*9/6', '7+3-4/6*9', '7+3-9*4/6', '7+3-9/6*4', '7+3*2-9/1', '7+3*2/1-9', '7+3*2/6-4', '7+3*4/2-9', '7+3*4/6-5', '7+3*6/9-5', '7+3*8/4-9', '7+3/1*2-9', '7+3/2*4-9', '7+3/4*8-9', '7+3/6*2-4', '7+3/6*4-5', '7+3/9*6-5', '7+4/2-1*5', '7+4/2-5*1', '7+4/2*1-5', '7+4/2*3-9', '7+4/6*3-5', '7+5-2*4/1', '7+5-2/1*4', '7+5-4*2/1', '7+5-4*6/3', '7+5-4/1*2', '7+5-4/3*6', '7+5-6*4/3', '7+5-6/3*4', '7+5/1-2*4', '7+5/1-4*2', '7+6/3-1*5', '7+6/3-5*1', '7+6/3*1-5', '7+6/9*3-5', '7+8/4-1*5', '7+8/4-5*1', '7+8/4*1-5', '7+8/4*3-9', '7+9-2*6/1', '7+9-2/1*6', '7+9-3*4/1', '7+9-3*8/2', '7+9-3/1*4', '7+9-3/2*8', '7+9-4*3/1', '7+9-4*6/2', '7+9-4/1*3', '7+9-4/2*6', '7+9-6*2/1', '7+9-6*4/2', '7+9-6*8/4', '7+9-6/1*2', '7+9-6/2*4', '7+9-6/4*8', '7+9-8*3/2', '7+9-8*6/4', '7+9-8/2*3', '7+9-8/4*6', '7+9/1-2*6', '7+9/1-3*4', '7+9/1-4*3', '7+9/1-6*2', '7+9/3-1*6', '7+9/3-6*1', '7+9/3*1-6', '7-1*5+4/2', '7-1*5+6/3', '7-1*5+8/4', '7-1*6+9/3', '7-2/1*4+5', '7-2/3*6+1', '7-2/4*8+1', '7-3/6*8+1', '7-4+2*3/6', '7-4+2/6*3', '7-4+3*2/6', '7-4+3/6*2', '7-4/1*2+5', '7-4/3*6+5', '7-4/6*9+3', '7-5+1*4/2', '7-5+1*6/3', '7-5+1*8/4', '7-5+1/2*4', '7-5+1/3*6', '7-5+1/4*8', '7-5+3*4/6', '7-5+3*6/9', '7-5+3/6*4', '7-5+3/9*6', '7-5+4/2*1', '7-5+4/6*3', '7-5+6/3*1', '7-5+6/9*3', '7-5+8/4*1', '7-6+1*9/3', '7-6+1/3*9', '7-6+9/3*1', '7-6/3*2+1', '7-6/3*4+5', '7-8/4*2+1', '7-8/6*3+1', '7-9+2*3/1', '7-9+2/1*3', '7-9+3*2/1', '7-9+3*4/2', '7-9+3*8/4', '7-9+3/1*2', '7-9+3/2*4', '7-9+3/4*8', '7-9+4/2*3', '7-9+8/4*3', '7-9/1+2*3', '7-9/1+3*2', '7-9/6*4+3', '7*1+4/2-5', '7*1+6/3-5', '7*1+8/4-5', '7*1+9/3-6', '7*1-5+4/2', '7*1-5+6/3', '7*1-5+8/4', '7*1-6+9/3', '7/1+2*3-9', '7/1+3*2-9', '7/1+5-2*4', '7/1+5-4*2', '7/1+9-2*6', '7/1+9-3*4', '7/1+9-4*3', '7/1+9-6*2', '7/1-9+2*3', '7/1-9+3*2', '8+1*4/2-6', '8+1*6/2-7', '8+1*9/3-7', '8+1/2*4-6', '8+1/2*6-7', '8+1/3*9-7', '8+2-4*9/6', '8+2-4/6*9', '8+2-9*4/6', '8+2-9/6*4', '8+2*3/6-5', '8+2*6/4-7', '8+2*9/6-7', '8+2/4*6-7', '8+2/6*3-5', '8+2/6*9-7', '8+3*2/6-5', '8+3/6*2-5', '8+4/2-1*6', '8+4/2-6*1', '8+4/2*1-6', '8+5-3*6/2', '8+5-3/2*6', '8+5-6*3/2', '8+5-6/2*3', '8+6-2*5/1', '8+6-2/1*5', '8+6-4*5/2', '8+6-4/2*5', '8+6-5*2/1', '8+6-5*4/2', '8+6-5/1*2', '8+6-5/2*4', '8+6/1-2*5', '8+6/1-5*2', '8+6/2-1*7', '8+6/2-7*1', '8+6/2*1-7', '8+6/4*2-7', '8+9/3-1*7', '8+9/3-7*1', '8+9/3*1-7', '8+9/6*2-7', '8-1*6+4/2', '8-1*7+6/2', '8-1*7+9/3', '8-3/2*6+5', '8-4/6*9+2', '8-5+2*3/6', '8-5+2/6*3', '8-5+3*2/6', '8-5+3/6*2', '8-6+1*4/2', '8-6+1/2*4', '8-6+4/2*1', '8-6/2*3+5', '8-7+1*6/2', '8-7+1*9/3', '8-7+1/2*6', '8-7+1/3*9', '8-7+2*6/4', '8-7+2*9/6', '8-7+2/4*6', '8-7+2/6*9', '8-7+6/2*1', '8-7+6/4*2', '8-7+9/3*1', '8-7+9/6*2', '8-9/6*4+2', '8*1+4/2-6', '8*1+6/2-7', '8*1+9/3-7', '8*1-6+4/2', '8*1-7+6/2', '8*1-7+9/3', '8*1/4+5-3', '8*1/4+7-5', '8*1/4+9-7', '8*1/4-3+5', '8*3/2+1-9', '8*3/2-9+1', '8*3/4+5-7', '8*3/4+7-9', '8*5/4+1-7', '8*5/4+3-9', '8*5/4-7+1', '8*5/4-9+3', '8*6/4+1-9', '8*6/4-9+1', '8/1+6-2*5', '8/1+6-5*2', '8/2*3+1-9', '8/2*3-9+1', '8/4+1*5-3', '8/4+1*7-5', '8/4+1*9-7', '8/4+5-1*3', '8/4+5-3*1', '8/4+7-1*5', '8/4+7-5*1', '8/4+9-1*7', '8/4+9-7*1', '8/4-3+1*5', '8/4-5+1*7', '8/4*1+5-3', '8/4*1+7-5', '8/4*1+9-7', '8/4*1-3+5', '8/4*3+5-7', '8/4*3+7-9', '8/4*5+1-7', '8/4*5+3-9', '8/4*5-7+1', '8/4*5-9+3', '8/4*6+1-9', '8/4*6-9+1', '9+1-3*4/2', '9+1-3*8/4', '9+1-3/2*4', '9+1-3/4*8', '9+1-4*3/2', '9+1-4/2*3', '9+1-8*3/4', '9+1-8/4*3', '9+1*4/2-7', '9+1*6/2-8', '9+1*6/3-7', '9+1*8/4-7', '9+1/2*4-7', '9+1/2*6-8', '9+1/3*6-7', '9+1/4*8-7', '9+2*4/8-6', '9+2*6/4-8', '9+2/4*6-8', '9+2/8*4-6', '9+3-2*4/1', '9+3-2/1*4', '9+3-4*2/1', '9+3-4/1*2', '9+3*4/6-7', '9+3/1-2*4', '9+3/1-4*2', '9+3/6*4-7', '9+4-3*6/2', '9+4-3/2*6', '9+4-6*3/2', '9+4-6/2*3', '9+4/2-1*7', '9+4/2-7*1', '9+4/2*1-7', '9+4/6*3-7', '9+4/8*2-6', '9+6/2-1*8', '9+6/2-8*1', '9+6/2*1-8', '9+6/3-1*7', '9+6/3-7*1', '9+6/3*1-7', '9+6/4*2-8', '9+7-2*6/1', '9+7-2/1*6', '9+7-3*4/1', '9+7-3*8/2', '9+7-3/1*4', '9+7-3/2*8', '9+7-4*3/1', '9+7-4*6/2', '9+7-4/1*3', '9+7-4/2*6', '9+7-6*2/1', '9+7-6*4/2', '9+7-6*8/4', '9+7-6/1*2', '9+7-6/2*4', '9+7-6/4*8', '9+7-8*3/2', '9+7-8*6/4', '9+7-8/2*3', '9+7-8/4*6', '9+7/1-2*6', '9+7/1-3*4', '9+7/1-4*3', '9+7/1-6*2', '9+8/4-1*7', '9+8/4-7*1', '9+8/4*1-7', '9-1*7+4/2', '9-1*7+6/3', '9-1*7+8/4', '9-1*8+6/2', '9-2*4+3/1', '9-2*4/1+3', '9-2*6+7/1', '9-2/1*4+3', '9-3/2*4+1', '9-3/2*6+4', '9-3/4*8+1', '9-4/1*2+3', '9-4/2*3+1', '9-6+2*4/8', '9-6+2/8*4', '9-6+4/8*2', '9-6/2*3+4', '9-7+1*4/2', '9-7+1*6/3', '9-7+1*8/4', '9-7+1/2*4', '9-7+1/3*6', '9-7+1/4*8', '9-7+3*4/6', '9-7+3/6*4', '9-7+4/2*1', '9-7+4/6*3', '9-7+6/3*1', '9-7+8/4*1', '9-8+1*6/2', '9-8+1/2*6', '9-8+2*6/4', '9-8+2/4*6', '9-8+6/2*1', '9-8+6/4*2', '9-8/4*3+1', '9*1+4/2-7', '9*1+6/2-8', '9*1+6/3-7', '9*1+8/4-7', '9*1-7+4/2', '9*1-7+6/3', '9*1-7+8/4', '9*1-8+6/2', '9*1/3+5-4', '9*1/3+6-5', '9*1/3+7-6', '9*1/3+8-7', '9*1/3-4+5', '9*2/3+4-6', '9*2/3+5-7', '9*2/3+6-8', '9*2/3-6+4', '9*2/6+4-3', '9*2/6+5-4', '9*2/6+8-7', '9*2/6-3+4', '9*4/6+1-3', '9*4/6+3-5', '9*4/6+5-7', '9*4/6-3+1', '9*4/6-5+3', '9/1+3-2*4', '9/1+3-4*2', '9/1+7-2*6', '9/1+7-3*4', '9/1+7-4*3', '9/1+7-6*2', '9/3+1*5-4', '9/3+1*6-5', '9/3+1*7-6', '9/3+1*8-7', '9/3+2*4-7', '9/3+5-1*4', '9/3+5-4*1', '9/3+6-1*5', '9/3+6-5*1', '9/3+7-1*6', '9/3+7-6*1', '9/3+8-1*7', '9/3+8-7*1', '9/3-4+1*5', '9/3-5+1*6', '9/3-6+1*7', '9/3-7+1*8', '9/3-7+2*4', '9/3*1+5-4', '9/3*1+6-5', '9/3*1+7-6', '9/3*1+8-7', '9/3*1-4+5', '9/3*2+4-6', '9/3*2+5-7', '9/3*2+6-8', '9/3*2-6+4', '9/6*2+4-3', '9/6*2+5-4', '9/6*2+8-7', '9/6*2-3+4', '9/6*4+1-3', '9/6*4+3-5', '9/6*4+5-7', '9/6*4-3+1', '9/6*4-5+3']\n"
          ]
        }
      ]
    },
    {
      "cell_type": "markdown",
      "metadata": {
        "id": "eGDB4K6uk1iN"
      },
      "source": [
        "(*)Calcula la complejidad del algoritmo "
      ]
    },
    {
      "cell_type": "markdown",
      "metadata": {
        "id": "NhpTh_BPk1ms"
      },
      "source": [
        "Respuesta"
      ]
    },
    {
      "cell_type": "code",
      "metadata": {
        "id": "nREzhkStlCq8"
      },
      "source": [
        "#Respuesta"
      ],
      "execution_count": null,
      "outputs": []
    },
    {
      "cell_type": "markdown",
      "source": [
        "### (*)Calcula la complejidad del algoritmo \n",
        "La complejidad computacional de este algoritmo depende del *branching factor*, es decir del número de hijos generados por nodo, siendo este $b$, junto con $p$, la profundidad máxima del nodo. Dando un orden de $O(b^p)$.</br>Analizando esté problema observamos que $p$ tiene un valor 4 y nos encontramos con $b$, el cual va fluctuando a medida que se va profundizando, esto se debe a que $b = n*o$. Donde $n$ son los números con los que se puede operar y $o$ los operadores, los cuales van menguando dada la premisa de que ninguno de ellos se puede repetir.</br>Aun así, se puede observar es un orden computacional exponencial, y puede mejorar bastante con la estrategia de poda."
      ],
      "metadata": {
        "id": "OwS_AaiuHo5X"
      }
    },
    {
      "cell_type": "code",
      "source": [],
      "metadata": {
        "id": "H1453AsAVSt4"
      },
      "execution_count": null,
      "outputs": []
    },
    {
      "cell_type": "markdown",
      "metadata": {
        "id": "3M6QjTsSkmYe"
      },
      "source": [
        "Según el problema (y tenga sentido), diseña un juego de datos de entrada aleatorios"
      ]
    },
    {
      "cell_type": "markdown",
      "metadata": {
        "id": "Jc3_OlyNkvjZ"
      },
      "source": [
        "Respuesta"
      ]
    },
    {
      "cell_type": "code",
      "metadata": {
        "id": "sJ-N2etjkyWc",
        "colab": {
          "base_uri": "https://localhost:8080/"
        },
        "outputId": "c4225587-b6dd-4118-8b82-5633e10297a3"
      },
      "source": [
        "#Respuesta\n",
        "import random\n",
        "n = random.randint(5, 30)\n",
        "resultado = random.randint(1, 60)\n",
        "numeros = [*range(1, n)]\n",
        "operadores = ['+', '-', '*', '/']\n",
        "print(\"Lista de Numeros\")\n",
        "print(numeros)\n",
        "print(\"Lista de Operadoes\")\n",
        "print(operadores)\n",
        "print(\"Resultado\")\n",
        "print(resultado)"
      ],
      "execution_count": 3,
      "outputs": [
        {
          "output_type": "stream",
          "name": "stdout",
          "text": [
            "Lista de Numeros\n",
            "[1, 2, 3, 4, 5, 6, 7, 8, 9, 10, 11, 12, 13, 14, 15, 16, 17, 18, 19, 20, 21, 22, 23, 24, 25, 26, 27, 28, 29]\n",
            "Lista de Operadoes\n",
            "['+', '-', '*', '/']\n",
            "Resultado\n",
            "58\n"
          ]
        }
      ]
    },
    {
      "cell_type": "markdown",
      "metadata": {
        "id": "zy5ZROmjlGo1"
      },
      "source": [
        "Aplica el algoritmo al juego de datos generado"
      ]
    },
    {
      "cell_type": "markdown",
      "metadata": {
        "id": "_Cmj-PVylMsa"
      },
      "source": [
        "Respuesta"
      ]
    },
    {
      "cell_type": "code",
      "metadata": {
        "id": "Jkx8GeiYlUz1",
        "colab": {
          "base_uri": "https://localhost:8080/"
        },
        "outputId": "1c971f73-4223-45e7-dfe7-feb28beed8c2"
      },
      "source": [
        "#Respuesta\n",
        "longitud_expresion_maxima =  len(operadores)*2 + 1\n",
        "soluciones = []\n",
        "iteraciones =[0]\n",
        "busqueda_en_profundidad_poda(\"\", numeros, operadores, resultado, longitud_expresion_maxima)\n",
        "print(f\"{len(soluciones)} resultado obtenidos en {iteraciones} iteraciones\" )\n",
        "print(\"Soluciones: \")\n",
        "print(soluciones)"
      ],
      "execution_count": 8,
      "outputs": [
        {
          "output_type": "stream",
          "name": "stdout",
          "text": [
            "216 resultado obtenidos en [175247] iteraciones\n",
            "Soluciones: \n",
            "['3+7*9-8/1', '3+7*9/1-8', '3+7/1*9-8', '3+9*7-8/1', '3+9*7/1-8', '3+9/1*7-8', '3-8+7*9/1', '3-8+7/1*9', '3-8+9*7/1', '3-8+9/1*7', '3-8/1+7*9', '3-8/1+9*7', '3/1+7*9-8', '3/1+9*7-8', '3/1-8+7*9', '3/1-8+9*7', '4+7*8-2/1', '4+7*8-6/3', '4+7*8/1-2', '4+7/1*8-2', '4+8*7-2/1', '4+8*7-6/3', '4+8*7/1-2', '4+8/1*7-2', '4-2+7*8/1', '4-2+7/1*8', '4-2+8*7/1', '4-2+8/1*7', '4-2/1+7*8', '4-2/1+8*7', '4-6/3+7*8', '4-6/3+8*7', '4/1+7*8-2', '4/1+8*7-2', '4/1-2+7*8', '4/1-2+8*7', '5+7*8-3/1', '5+7*8-6/2', '5+7*8-9/3', '5+7*8/1-3', '5+7/1*8-3', '5+8*7-3/1', '5+8*7-6/2', '5+8*7-9/3', '5+8*7/1-3', '5+8/1*7-3', '5-3+7*8/1', '5-3+7/1*8', '5-3+8*7/1', '5-3+8/1*7', '5-3/1+7*8', '5-3/1+8*7', '5-6/2+7*8', '5-6/2+8*7', '5-9/3+7*8', '5-9/3+8*7', '5/1+7*8-3', '5/1+8*7-3', '5/1-3+7*8', '5/1-3+8*7', '6+7*8-4/1', '6+7*8/1-4', '6+7/1*8-4', '6+8*7-4/1', '6+8*7/1-4', '6+8/1*7-4', '6-4+7*8/1', '6-4+7/1*8', '6-4+8*7/1', '6-4+8/1*7', '6-4/1+7*8', '6-4/1+8*7', '6*9+7-3/1', '6*9+7/1-3', '6*9+8-4/1', '6*9+8/1-4', '6*9-3+7/1', '6*9-4+8/1', '6*9/1+7-3', '6*9/1+8-4', '6/1+7*8-4', '6/1+8*7-4', '6/1-4+7*8', '6/1-4+8*7', '6/1*9+7-3', '6/1*9+8-4', '6/2+7*8-1', '6/2+7*9-8', '6/2+8*7-1', '6/2+9*7-8', '6/2-1+7*8', '6/2-1+8*7', '7+6*9-3/1', '7+6*9/1-3', '7+6/1*9-3', '7+9*6-3/1', '7+9*6/1-3', '7+9/1*6-3', '7-3+6*9/1', '7-3+6/1*9', '7-3+9*6/1', '7-3+9/1*6', '7-3/1+6*9', '7-3/1+9*6', '7*8+4-2/1', '7*8+4-6/3', '7*8+4/1-2', '7*8+5-3/1', '7*8+5-6/2', '7*8+5-9/3', '7*8+5/1-3', '7*8+6-4/1', '7*8+6/1-4', '7*8+6/2-1', '7*8+9/3-1', '7*8-1+6/2', '7*8-1+9/3', '7*8-2+4/1', '7*8-2/1+4', '7*8-3+5/1', '7*8-3/1+5', '7*8-4+6/1', '7*8-6/3+4', '7*8/1+4-2', '7*8/1+5-3', '7*8/1+6-4', '7*8/1-2+4', '7*8/1-3+5', '7*9+3-8/1', '7*9+3/1-8', '7*9+6/2-8', '7*9-8+3/1', '7*9-8+6/2', '7*9-8/1+3', '7*9/1+3-8', '7*9/1-8+3', '7/1+6*9-3', '7/1+9*6-3', '7/1-3+6*9', '7/1-3+9*6', '7/1*8+4-2', '7/1*8+5-3', '7/1*8+6-4', '7/1*8-2+4', '7/1*8-3+5', '7/1*9+3-8', '7/1*9-8+3', '8+6*9-4/1', '8+6*9/1-4', '8+6/1*9-4', '8+9*6-4/1', '8+9*6/1-4', '8+9/1*6-4', '8-4+6*9/1', '8-4+6/1*9', '8-4+9*6/1', '8-4+9/1*6', '8-4/1+6*9', '8-4/1+9*6', '8*7+4-2/1', '8*7+4-6/3', '8*7+4/1-2', '8*7+5-3/1', '8*7+5-6/2', '8*7+5-9/3', '8*7+5/1-3', '8*7+6-4/1', '8*7+6/1-4', '8*7+6/2-1', '8*7+9/3-1', '8*7-1+6/2', '8*7-1+9/3', '8*7-2+4/1', '8*7-2/1+4', '8*7-3+5/1', '8*7-3/1+5', '8*7-4+6/1', '8*7-6/3+4', '8*7/1+4-2', '8*7/1+5-3', '8*7/1+6-4', '8*7/1-2+4', '8*7/1-3+5', '8/1+6*9-4', '8/1+9*6-4', '8/1-4+6*9', '8/1-4+9*6', '8/1*7+4-2', '8/1*7+5-3', '8/1*7+6-4', '8/1*7-2+4', '8/1*7-3+5', '9*6+7-3/1', '9*6+7/1-3', '9*6+8-4/1', '9*6+8/1-4', '9*6-3+7/1', '9*6-4+8/1', '9*6/1+7-3', '9*6/1+8-4', '9*7+3-8/1', '9*7+3/1-8', '9*7+6/2-8', '9*7-8+3/1', '9*7-8+6/2', '9*7-8/1+3', '9*7/1+3-8', '9*7/1-8+3', '9/1*6+7-3', '9/1*6+8-4', '9/1*7+3-8', '9/1*7-8+3', '9/3+7*8-1', '9/3+8*7-1', '9/3-1+7*8', '9/3-1+8*7']\n"
          ]
        }
      ]
    },
    {
      "cell_type": "code",
      "source": [
        "soluciones, iteraciones = encuentra_expresion(numeros, operadores, resultado)\n",
        "print(f\"{len(soluciones)} resultado obtenidos en {iteraciones} iteraciones\" )\n",
        "print(\"Soluciones: \")\n",
        "print(soluciones)\n"
      ],
      "metadata": {
        "colab": {
          "base_uri": "https://localhost:8080/"
        },
        "id": "ueiVMCP_GvkX",
        "outputId": "583c3b3b-d4d9-400e-d72a-0f8ed570131f"
      },
      "execution_count": 9,
      "outputs": [
        {
          "output_type": "stream",
          "name": "stdout",
          "text": [
            "240 resultado obtenidos en 362880 iteraciones\n",
            "Soluciones: \n",
            "['3/1+7*9-8', '3/1-8+7*9', '3/1-8+9*7', '3/1+9*7-8', '3+7/1*9-8', '3+7*9/1-8', '3+7*9-8/1', '3-8/1+7*9', '3-8/1+9*7', '3-8+7/1*9', '3-8+7*9/1', '3-8+9/1*7', '3-8+9*7/1', '3+9/1*7-8', '3+9*7/1-8', '3+9*7-8/1', '4/1-2+7*8', '4/1-2+8*7', '4/1+7*8-2', '4/1+8*7-2', '4-2/1+7*8', '4-2/1+8*7', '4-2+7/1*8', '4-2+7*8/1', '4-2+8/1*7', '4-2+8*7/1', '4-6/3+7*8', '4-6/3+8*7', '4+7/1*8-2', '4+7*8/1-2', '4+7*8-2/1', '4+7*8-6/3', '4+8/1*7-2', '4+8*7/1-2', '4+8*7-2/1', '4+8*7-6/3', '5/1-3+7*8', '5/1-3+8*7', '5/1+7*8-3', '5/1+8*7-3', '5-3/1+7*8', '5-3/1+8*7', '5-3+7/1*8', '5-3+7*8/1', '5-3+8/1*7', '5-3+8*7/1', '5-6/2+7*8', '5-6/2+8*7', '5+7/1*8-3', '5+7*8/1-3', '5+7*8-3/1', '5+7*8-6/2', '5+7*8-9/3', '5+8/1*7-3', '5+8*7/1-3', '5+8*7-3/1', '5+8*7-6/2', '5+8*7-9/3', '5-9/3+7*8', '5-9/3+8*7', '6/1-4+7*8', '6/1-4+8*7', '6/1+7*8-4', '6/1+8*7-4', '6/1*9-3+7', '6/1*9-4+8', '6/1*9+7-3', '6/1*9+8-4', '6/2-1+7*8', '6/2-1+8*7', '6/2+7*8-1', '6/2+7*9-8', '6/2+8*7-1', '6/2-8+7*9', '6/2-8+9*7', '6/2+9*7-8', '6-4/1+7*8', '6-4/1+8*7', '6-4+7/1*8', '6-4+7*8/1', '6-4+8/1*7', '6-4+8*7/1', '6+7/1*8-4', '6+7*8/1-4', '6+7*8-4/1', '6+8/1*7-4', '6+8*7/1-4', '6+8*7-4/1', '6*9/1-3+7', '6*9/1-4+8', '6*9/1+7-3', '6*9/1+8-4', '6*9-3/1+7', '6*9-3+7/1', '6*9-4/1+8', '6*9-4+8/1', '6*9+7/1-3', '6*9+7-3/1', '6*9+8/1-4', '6*9+8-4/1', '7/1-3+6*9', '7/1-3+9*6', '7/1+6*9-3', '7/1*8-2+4', '7/1*8-3+5', '7/1*8+4-2', '7/1*8-4+6', '7/1*8+5-3', '7/1*8+6-4', '7/1*9+3-8', '7/1+9*6-3', '7/1*9-8+3', '7-3/1+6*9', '7-3/1+9*6', '7-3+6/1*9', '7-3+6*9/1', '7-3+9/1*6', '7-3+9*6/1', '7+6/1*9-3', '7+6*9/1-3', '7+6*9-3/1', '7*8/1-2+4', '7*8/1-3+5', '7*8/1+4-2', '7*8/1-4+6', '7*8/1+5-3', '7*8-1+6/2', '7*8/1+6-4', '7*8-1+9/3', '7*8-2/1+4', '7*8-2+4/1', '7*8-3/1+5', '7*8-3+5/1', '7*8+4/1-2', '7*8-4/1+6', '7*8+4-2/1', '7*8-4+6/1', '7*8+4-6/3', '7*8+5/1-3', '7*8+5-3/1', '7*8+5-6/2', '7*8+5-9/3', '7*8+6/1-4', '7*8+6/2-1', '7*8-6/2+5', '7*8-6/3+4', '7*8+6-4/1', '7*8+9/3-1', '7*8-9/3+5', '7*9/1+3-8', '7+9/1*6-3', '7*9/1-8+3', '7*9+3/1-8', '7*9+3-8/1', '7+9*6/1-3', '7*9+6/2-8', '7+9*6-3/1', '7*9-8/1+3', '7*9-8+3/1', '7*9-8+6/2', '8/1-4+6*9', '8/1-4+9*6', '8/1+6*9-4', '8/1*7-2+4', '8/1*7-3+5', '8/1*7+4-2', '8/1*7-4+6', '8/1*7+5-3', '8/1*7+6-4', '8/1+9*6-4', '8-4/1+6*9', '8-4/1+9*6', '8-4+6/1*9', '8-4+6*9/1', '8-4+9/1*6', '8-4+9*6/1', '8+6/1*9-4', '8+6*9/1-4', '8+6*9-4/1', '8*7/1-2+4', '8*7/1-3+5', '8*7/1+4-2', '8*7/1-4+6', '8*7/1+5-3', '8*7-1+6/2', '8*7/1+6-4', '8*7-1+9/3', '8*7-2/1+4', '8*7-2+4/1', '8*7-3/1+5', '8*7-3+5/1', '8*7+4/1-2', '8*7-4/1+6', '8*7+4-2/1', '8*7-4+6/1', '8*7+4-6/3', '8*7+5/1-3', '8*7+5-3/1', '8*7+5-6/2', '8*7+5-9/3', '8*7+6/1-4', '8*7+6/2-1', '8*7-6/2+5', '8*7-6/3+4', '8*7+6-4/1', '8*7+9/3-1', '8*7-9/3+5', '8+9/1*6-4', '8+9*6/1-4', '8+9*6-4/1', '9/1*6-3+7', '9/1*6-4+8', '9/1*6+7-3', '9/1*6+8-4', '9/1*7+3-8', '9/1*7-8+3', '9/3-1+7*8', '9/3-1+8*7', '9/3+7*8-1', '9/3+8*7-1', '9*6/1-3+7', '9*6/1-4+8', '9*6/1+7-3', '9*6/1+8-4', '9*6-3/1+7', '9*6-3+7/1', '9*6-4/1+8', '9*6-4+8/1', '9*6+7/1-3', '9*6+7-3/1', '9*6+8/1-4', '9*6+8-4/1', '9*7/1+3-8', '9*7/1-8+3', '9*7+3/1-8', '9*7+3-8/1', '9*7+6/2-8', '9*7-8/1+3', '9*7-8+3/1', '9*7-8+6/2']\n"
          ]
        }
      ]
    },
    {
      "cell_type": "markdown",
      "metadata": {
        "id": "eTFWUJQrtGcv"
      },
      "source": [
        "Enumera las referencias que has utilizado(si ha sido necesario) para llevar a cabo el trabajo"
      ]
    },
    {
      "cell_type": "markdown",
      "metadata": {
        "id": "YKQ_mRBttWsP"
      },
      "source": [
        "Respuesta\n",
        "\n",
        "Manual de la asignatura de matemáticas para la combinatoria, manual de clase, Documentación oficial de la librería itertools [Link](https://docs.python.org/3/library/itertools.html)]"
      ]
    },
    {
      "cell_type": "markdown",
      "metadata": {
        "id": "kAkDPUyRtYyH"
      },
      "source": [
        "Describe brevemente las lineas de como crees que es posible avanzar en el estudio del problema. Ten en cuenta incluso posibles variaciones del problema y/o variaciones al alza del tamaño"
      ]
    },
    {
      "cell_type": "markdown",
      "metadata": {
        "id": "IE0uZmo-tZu-"
      },
      "source": [
        "Respuesta\n",
        "\n",
        "Creo que para listas mayores de números le aplicaría algoritmos heurísticos de búsqueda donde no sé quiera encontrar la solución óptima, incluso si solo se busca una solución acertada excepto varias.\n",
        "\n",
        "Creo que uno de los algoritmos heurísticos puede ir bien, son los genéticos. Ya que pueden son relativamente fáciles de implementar, dan muy buenos resultados y pueden usarse para la búsqueda de soluciones."
      ]
    }
  ]
}